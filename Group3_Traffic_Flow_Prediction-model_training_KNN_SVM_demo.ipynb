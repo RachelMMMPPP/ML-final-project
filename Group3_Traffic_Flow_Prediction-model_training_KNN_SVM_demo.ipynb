{
 "cells": [
  {
   "cell_type": "code",
   "execution_count": 1,
   "id": "fddfca84",
   "metadata": {},
   "outputs": [],
   "source": [
    "import pandas as pd\n",
    "import numpy as np\n",
    "import matplotlib.pyplot as plt\n",
    "import seaborn as sns"
   ]
  },
  {
   "cell_type": "code",
   "execution_count": 2,
   "id": "40132adf",
   "metadata": {},
   "outputs": [],
   "source": [
    "# %matplotlib inline"
   ]
  },
  {
   "cell_type": "code",
   "execution_count": 2,
   "id": "eb779b5f",
   "metadata": {},
   "outputs": [
    {
     "data": {
      "text/html": [
       "<div>\n",
       "<style scoped>\n",
       "    .dataframe tbody tr th:only-of-type {\n",
       "        vertical-align: middle;\n",
       "    }\n",
       "\n",
       "    .dataframe tbody tr th {\n",
       "        vertical-align: top;\n",
       "    }\n",
       "\n",
       "    .dataframe thead th {\n",
       "        text-align: right;\n",
       "    }\n",
       "</style>\n",
       "<table border=\"1\" class=\"dataframe\">\n",
       "  <thead>\n",
       "    <tr style=\"text-align: right;\">\n",
       "      <th></th>\n",
       "      <th>5 Minutes</th>\n",
       "      <th>Flow</th>\n",
       "      <th>(mph)</th>\n",
       "      <th>week_day</th>\n",
       "      <th>holidays</th>\n",
       "      <th>Hour</th>\n",
       "      <th>Temperature</th>\n",
       "      <th>Dew Point</th>\n",
       "      <th>Humidity</th>\n",
       "      <th>Wind Speed</th>\n",
       "      <th>...</th>\n",
       "      <th>Condition_Fog</th>\n",
       "      <th>Condition_Haze</th>\n",
       "      <th>Condition_Heavy Rain</th>\n",
       "      <th>Condition_Light Rain</th>\n",
       "      <th>Condition_Mostly Cloudy</th>\n",
       "      <th>Condition_Mostly Cloudy / Windy</th>\n",
       "      <th>Condition_Partly Cloudy</th>\n",
       "      <th>Condition_Partly Cloudy / Windy</th>\n",
       "      <th>Condition_Rain</th>\n",
       "      <th>Condition_Thunder in the Vicinity</th>\n",
       "    </tr>\n",
       "  </thead>\n",
       "  <tbody>\n",
       "    <tr>\n",
       "      <th>0</th>\n",
       "      <td>2020-02-01 00:15:00</td>\n",
       "      <td>337</td>\n",
       "      <td>65.4</td>\n",
       "      <td>6</td>\n",
       "      <td>1</td>\n",
       "      <td>0</td>\n",
       "      <td>55.0</td>\n",
       "      <td>29.0</td>\n",
       "      <td>37.0</td>\n",
       "      <td>3.0</td>\n",
       "      <td>...</td>\n",
       "      <td>0.0</td>\n",
       "      <td>0.0</td>\n",
       "      <td>0.0</td>\n",
       "      <td>0.0</td>\n",
       "      <td>0.0</td>\n",
       "      <td>0.0</td>\n",
       "      <td>0.0</td>\n",
       "      <td>0.0</td>\n",
       "      <td>0.0</td>\n",
       "      <td>0.0</td>\n",
       "    </tr>\n",
       "    <tr>\n",
       "      <th>1</th>\n",
       "      <td>2020-02-01 00:20:00</td>\n",
       "      <td>302</td>\n",
       "      <td>66.3</td>\n",
       "      <td>6</td>\n",
       "      <td>1</td>\n",
       "      <td>0</td>\n",
       "      <td>55.0</td>\n",
       "      <td>29.0</td>\n",
       "      <td>37.0</td>\n",
       "      <td>3.0</td>\n",
       "      <td>...</td>\n",
       "      <td>0.0</td>\n",
       "      <td>0.0</td>\n",
       "      <td>0.0</td>\n",
       "      <td>0.0</td>\n",
       "      <td>0.0</td>\n",
       "      <td>0.0</td>\n",
       "      <td>0.0</td>\n",
       "      <td>0.0</td>\n",
       "      <td>0.0</td>\n",
       "      <td>0.0</td>\n",
       "    </tr>\n",
       "    <tr>\n",
       "      <th>2</th>\n",
       "      <td>2020-02-01 00:25:00</td>\n",
       "      <td>282</td>\n",
       "      <td>65.3</td>\n",
       "      <td>6</td>\n",
       "      <td>1</td>\n",
       "      <td>0</td>\n",
       "      <td>55.0</td>\n",
       "      <td>29.0</td>\n",
       "      <td>37.0</td>\n",
       "      <td>3.0</td>\n",
       "      <td>...</td>\n",
       "      <td>0.0</td>\n",
       "      <td>0.0</td>\n",
       "      <td>0.0</td>\n",
       "      <td>0.0</td>\n",
       "      <td>0.0</td>\n",
       "      <td>0.0</td>\n",
       "      <td>0.0</td>\n",
       "      <td>0.0</td>\n",
       "      <td>0.0</td>\n",
       "      <td>0.0</td>\n",
       "    </tr>\n",
       "    <tr>\n",
       "      <th>3</th>\n",
       "      <td>2020-02-01 00:30:00</td>\n",
       "      <td>302</td>\n",
       "      <td>66.2</td>\n",
       "      <td>6</td>\n",
       "      <td>1</td>\n",
       "      <td>0</td>\n",
       "      <td>55.0</td>\n",
       "      <td>29.0</td>\n",
       "      <td>37.0</td>\n",
       "      <td>3.0</td>\n",
       "      <td>...</td>\n",
       "      <td>0.0</td>\n",
       "      <td>0.0</td>\n",
       "      <td>0.0</td>\n",
       "      <td>0.0</td>\n",
       "      <td>0.0</td>\n",
       "      <td>0.0</td>\n",
       "      <td>0.0</td>\n",
       "      <td>0.0</td>\n",
       "      <td>0.0</td>\n",
       "      <td>0.0</td>\n",
       "    </tr>\n",
       "    <tr>\n",
       "      <th>4</th>\n",
       "      <td>2020-02-01 00:35:00</td>\n",
       "      <td>277</td>\n",
       "      <td>66.2</td>\n",
       "      <td>6</td>\n",
       "      <td>1</td>\n",
       "      <td>0</td>\n",
       "      <td>55.0</td>\n",
       "      <td>29.0</td>\n",
       "      <td>37.0</td>\n",
       "      <td>3.0</td>\n",
       "      <td>...</td>\n",
       "      <td>0.0</td>\n",
       "      <td>0.0</td>\n",
       "      <td>0.0</td>\n",
       "      <td>0.0</td>\n",
       "      <td>0.0</td>\n",
       "      <td>0.0</td>\n",
       "      <td>0.0</td>\n",
       "      <td>0.0</td>\n",
       "      <td>0.0</td>\n",
       "      <td>0.0</td>\n",
       "    </tr>\n",
       "  </tbody>\n",
       "</table>\n",
       "<p>5 rows × 50 columns</p>\n",
       "</div>"
      ],
      "text/plain": [
       "             5 Minutes  Flow  (mph)  week_day  holidays  Hour  Temperature  \\\n",
       "0  2020-02-01 00:15:00   337   65.4         6         1     0         55.0   \n",
       "1  2020-02-01 00:20:00   302   66.3         6         1     0         55.0   \n",
       "2  2020-02-01 00:25:00   282   65.3         6         1     0         55.0   \n",
       "3  2020-02-01 00:30:00   302   66.2         6         1     0         55.0   \n",
       "4  2020-02-01 00:35:00   277   66.2         6         1     0         55.0   \n",
       "\n",
       "   Dew Point  Humidity  Wind Speed  ...  Condition_Fog  Condition_Haze  \\\n",
       "0       29.0      37.0         3.0  ...            0.0             0.0   \n",
       "1       29.0      37.0         3.0  ...            0.0             0.0   \n",
       "2       29.0      37.0         3.0  ...            0.0             0.0   \n",
       "3       29.0      37.0         3.0  ...            0.0             0.0   \n",
       "4       29.0      37.0         3.0  ...            0.0             0.0   \n",
       "\n",
       "   Condition_Heavy Rain  Condition_Light Rain  Condition_Mostly Cloudy  \\\n",
       "0                   0.0                   0.0                      0.0   \n",
       "1                   0.0                   0.0                      0.0   \n",
       "2                   0.0                   0.0                      0.0   \n",
       "3                   0.0                   0.0                      0.0   \n",
       "4                   0.0                   0.0                      0.0   \n",
       "\n",
       "   Condition_Mostly Cloudy / Windy  Condition_Partly Cloudy  \\\n",
       "0                              0.0                      0.0   \n",
       "1                              0.0                      0.0   \n",
       "2                              0.0                      0.0   \n",
       "3                              0.0                      0.0   \n",
       "4                              0.0                      0.0   \n",
       "\n",
       "   Condition_Partly Cloudy / Windy  Condition_Rain  \\\n",
       "0                              0.0             0.0   \n",
       "1                              0.0             0.0   \n",
       "2                              0.0             0.0   \n",
       "3                              0.0             0.0   \n",
       "4                              0.0             0.0   \n",
       "\n",
       "   Condition_Thunder in the Vicinity  \n",
       "0                                0.0  \n",
       "1                                0.0  \n",
       "2                                0.0  \n",
       "3                                0.0  \n",
       "4                                0.0  \n",
       "\n",
       "[5 rows x 50 columns]"
      ]
     },
     "execution_count": 2,
     "metadata": {},
     "output_type": "execute_result"
    }
   ],
   "source": [
    "# Load data\n",
    "df = pd.read_csv(\"traffic_weather_full2020_cleaned.csv\")\n",
    "df.head()"
   ]
  },
  {
   "cell_type": "markdown",
   "id": "01a975bf",
   "metadata": {},
   "source": [
    "### Model Implementation"
   ]
  },
  {
   "cell_type": "code",
   "execution_count": 3,
   "id": "127876e7",
   "metadata": {},
   "outputs": [],
   "source": [
    "from sklearn.svm import SVR\n",
    "from sklearn.preprocessing import StandardScaler\n",
    "from sklearn.metrics import (\n",
    "    mean_absolute_error, mean_squared_error, r2_score, \n",
    "    explained_variance_score, max_error\n",
    ")"
   ]
  },
  {
   "cell_type": "markdown",
   "id": "e0c3b556",
   "metadata": {},
   "source": [
    "#### Feature Selection"
   ]
  },
  {
   "cell_type": "code",
   "execution_count": 4,
   "id": "ceffc9f1",
   "metadata": {},
   "outputs": [
    {
     "data": {
      "text/plain": [
       "Index(['5 Minutes', 'Flow', '(mph)', 'week_day', 'holidays', 'Hour',\n",
       "       'Temperature', 'Dew Point', 'Humidity', 'Wind Speed', 'Wind Gust',\n",
       "       'Pressure', 'Precip.', 'Day_of_Month', 'Flow_Lag1', 'Flow_Lag2',\n",
       "       'Flow_Lag3', 'Wind_CALM', 'Wind_E', 'Wind_ENE', 'Wind_ESE', 'Wind_N',\n",
       "       'Wind_NE', 'Wind_NNE', 'Wind_NNW', 'Wind_NW', 'Wind_S', 'Wind_SE',\n",
       "       'Wind_SSE', 'Wind_SSW', 'Wind_SW', 'Wind_VAR', 'Wind_W', 'Wind_WNW',\n",
       "       'Wind_WSW', 'Condition_Blowing Dust', 'Condition_Cloudy',\n",
       "       'Condition_Cloudy / Windy', 'Condition_Fair', 'Condition_Fair / Windy',\n",
       "       'Condition_Fog', 'Condition_Haze', 'Condition_Heavy Rain',\n",
       "       'Condition_Light Rain', 'Condition_Mostly Cloudy',\n",
       "       'Condition_Mostly Cloudy / Windy', 'Condition_Partly Cloudy',\n",
       "       'Condition_Partly Cloudy / Windy', 'Condition_Rain',\n",
       "       'Condition_Thunder in the Vicinity'],\n",
       "      dtype='object')"
      ]
     },
     "execution_count": 4,
     "metadata": {},
     "output_type": "execute_result"
    }
   ],
   "source": [
    "columns = df.columns\n",
    "columns"
   ]
  },
  {
   "cell_type": "code",
   "execution_count": 5,
   "id": "14d24a1f",
   "metadata": {},
   "outputs": [],
   "source": [
    "features = ['(mph)', 'week_day', 'holidays', 'Hour',\n",
    "       'Temperature', 'Humidity', 'Wind Speed', 'Wind Gust',\n",
    "       'Precip.', 'Flow_Lag1', 'Flow_Lag2','Flow_Lag3']"
   ]
  },
  {
   "cell_type": "code",
   "execution_count": 6,
   "id": "c5f8b6f3",
   "metadata": {},
   "outputs": [],
   "source": [
    "# Select all fatures\n",
    "X_full = df.drop(['5 Minutes', 'Flow'], axis=1)\n",
    "\n",
    "# Remove low correlated features\n",
    "X_partial = df[features]\n",
    "y = df['Flow']"
   ]
  },
  {
   "cell_type": "markdown",
   "id": "d9ad8dc8",
   "metadata": {},
   "source": [
    "#### Data spliting"
   ]
  },
  {
   "cell_type": "code",
   "execution_count": 7,
   "id": "c282ef5b",
   "metadata": {},
   "outputs": [],
   "source": [
    "split_point = int(0.8 * len(df))  # Calculate the 80% split index\n",
    "X_train_full, X_test_full = X_full[:split_point], X_full[split_point:]\n",
    "X_train_partial, X_test_partial = X_partial[:split_point], X_partial[split_point:]\n",
    "y_train, y_test = y[:split_point], y[split_point:]\n"
   ]
  },
  {
   "cell_type": "code",
   "execution_count": 8,
   "id": "f5d3ff86",
   "metadata": {},
   "outputs": [],
   "source": [
    "scaler = StandardScaler()\n",
    "\n",
    "# Fit the scaler on the training set and transform both training and test sets\n",
    "X_train_full_scaled = scaler.fit_transform(X_train_full)\n",
    "X_test_full_scaled = scaler.transform(X_test_full)\n",
    "\n",
    "X_train_partial_scaled = scaler.fit_transform(X_train_partial)\n",
    "X_test_partial_scaled = scaler.transform(X_test_partial)"
   ]
  },
  {
   "cell_type": "markdown",
   "id": "22061253",
   "metadata": {},
   "source": [
    "#### SVM using RBF kernel"
   ]
  },
  {
   "cell_type": "code",
   "execution_count": 10,
   "id": "f54f5c73",
   "metadata": {
    "scrolled": true
   },
   "outputs": [
    {
     "name": "stdout",
     "output_type": "stream",
     "text": [
      "Time-based splitting (full features):\n",
      "SVM Mean Absolute Error (MAE): 28.8730\n",
      "SVM Mean Squared Error (MSE): 1795.2339\n",
      "SVM Root Mean Squared Error (RMSE): 42.3702\n",
      "SVM R-squared (R2): 0.9379\n",
      "SVM Mean Absolute Percentage Error (MAPE): 8.9377%\n",
      "SVM Explained Variance Score: 0.9383\n",
      "SVM Max Error: 286.9697\n"
     ]
    }
   ],
   "source": [
    "# Step 2: Create the SVM model with an RBF kernel\n",
    "svm_model_full = SVR(kernel='rbf')\n",
    "\n",
    "# Step 3: Train the model\n",
    "svm_model_full.fit(X_train_full_scaled, y_train)\n",
    "\n",
    "# Step 4: Make predictions on the test set\n",
    "y_pred_full = svm_model_full.predict(X_test_full_scaled)\n",
    "\n",
    "# Step 4: Evaluate the model with various metrics\n",
    "mae_svm_full = mean_absolute_error(y_test, y_pred_full)\n",
    "mse_svm_full = mean_squared_error(y_test, y_pred_full)\n",
    "rmse_svm_full = mean_squared_error(y_test, y_pred_full, squared=False)\n",
    "r2_svm_full = r2_score(y_test, y_pred_full)\n",
    "mape_svm_full = (abs((y_test - y_pred_full) / y_test).mean()) * 100\n",
    "evs_svm_full = explained_variance_score(y_test, y_pred_full)\n",
    "max_err_svm_full = max_error(y_test, y_pred_full)\n",
    "\n",
    "# Print the evaluation metrics\n",
    "print(f\"Time-based splitting (full features):\")\n",
    "print(f\"SVM Mean Absolute Error (MAE): {mae_svm_full:.4f}\")\n",
    "print(f\"SVM Mean Squared Error (MSE): {mse_svm_full:.4f}\")\n",
    "print(f\"SVM Root Mean Squared Error (RMSE): {rmse_svm_full:.4f}\")\n",
    "print(f\"SVM R-squared (R2): {r2_svm_full:.4f}\")\n",
    "print(f\"SVM Mean Absolute Percentage Error (MAPE): {mape_svm_full:.4f}%\")\n",
    "print(f\"SVM Explained Variance Score: {evs_svm_full:.4f}\")\n",
    "print(f\"SVM Max Error: {max_err_svm_full:.4f}\")"
   ]
  },
  {
   "cell_type": "code",
   "execution_count": 11,
   "id": "da528a74",
   "metadata": {},
   "outputs": [
    {
     "name": "stdout",
     "output_type": "stream",
     "text": [
      "Time-based splitting (partial features):\n",
      "SVM Mean Absolute Error (MAE): 22.9779\n",
      "SVM Mean Squared Error (MSE): 962.6142\n",
      "SVM Root Mean Squared Error (RMSE): 31.0260\n",
      "SVM R-squared (R2): 0.9667\n",
      "SVM Mean Absolute Percentage Error (MAPE): 6.3963%\n",
      "SVM Explained Variance Score: 0.9670\n",
      "SVM Max Error: 288.9711\n"
     ]
    }
   ],
   "source": [
    "# Step 2: Create the SVM model with an RBF kernel\n",
    "svm_model_partial = SVR(kernel='rbf')\n",
    "\n",
    "# Step 3: Train the model\n",
    "svm_model_partial.fit(X_train_partial_scaled, y_train)\n",
    "\n",
    "# Step 4: Make predictions on the test set\n",
    "y_pred_partial = svm_model_partial.predict(X_test_partial_scaled)\n",
    "\n",
    "# Step 4: Evaluate the model with various metrics\n",
    "mae_svm_partial = mean_absolute_error(y_test, y_pred_partial)\n",
    "mse_svm_partial = mean_squared_error(y_test, y_pred_partial)\n",
    "rmse_svm_partial = mean_squared_error(y_test, y_pred_partial, squared=False)\n",
    "r2_svm_partial = r2_score(y_test, y_pred_partial)\n",
    "mape_svm_partial = (abs((y_test - y_pred_partial) / y_test).mean()) * 100\n",
    "evs_svm_partial = explained_variance_score(y_test, y_pred_partial)\n",
    "max_err_svm_partial = max_error(y_test, y_pred_partial)\n",
    "\n",
    "# Print the evaluation metrics\n",
    "print(f\"Time-based splitting (partial features):\")\n",
    "print(f\"SVM Mean Absolute Error (MAE): {mae_svm_partial:.4f}\")\n",
    "print(f\"SVM Mean Squared Error (MSE): {mse_svm_partial:.4f}\")\n",
    "print(f\"SVM Root Mean Squared Error (RMSE): {rmse_svm_partial:.4f}\")\n",
    "print(f\"SVM R-squared (R2): {r2_svm_partial:.4f}\")\n",
    "print(f\"SVM Mean Absolute Percentage Error (MAPE): {mape_svm_partial:.4f}%\")\n",
    "print(f\"SVM Explained Variance Score: {evs_svm_partial:.4f}\")\n",
    "print(f\"SVM Max Error: {max_err_svm_partial:.4f}\")"
   ]
  },
  {
   "cell_type": "markdown",
   "id": "e5f08591",
   "metadata": {},
   "source": [
    "Above results shows that the model using partial features performs better, so I will use partial features for subsequent hyperparameter tuning."
   ]
  },
  {
   "cell_type": "code",
   "execution_count": 12,
   "id": "a2433524",
   "metadata": {},
   "outputs": [
    {
     "name": "stdout",
     "output_type": "stream",
     "text": [
      "Fitting 3 folds for each of 27 candidates, totalling 81 fits\n"
     ]
    },
    {
     "data": {
      "text/html": [
       "<style>#sk-container-id-1 {color: black;background-color: white;}#sk-container-id-1 pre{padding: 0;}#sk-container-id-1 div.sk-toggleable {background-color: white;}#sk-container-id-1 label.sk-toggleable__label {cursor: pointer;display: block;width: 100%;margin-bottom: 0;padding: 0.3em;box-sizing: border-box;text-align: center;}#sk-container-id-1 label.sk-toggleable__label-arrow:before {content: \"▸\";float: left;margin-right: 0.25em;color: #696969;}#sk-container-id-1 label.sk-toggleable__label-arrow:hover:before {color: black;}#sk-container-id-1 div.sk-estimator:hover label.sk-toggleable__label-arrow:before {color: black;}#sk-container-id-1 div.sk-toggleable__content {max-height: 0;max-width: 0;overflow: hidden;text-align: left;background-color: #f0f8ff;}#sk-container-id-1 div.sk-toggleable__content pre {margin: 0.2em;color: black;border-radius: 0.25em;background-color: #f0f8ff;}#sk-container-id-1 input.sk-toggleable__control:checked~div.sk-toggleable__content {max-height: 200px;max-width: 100%;overflow: auto;}#sk-container-id-1 input.sk-toggleable__control:checked~label.sk-toggleable__label-arrow:before {content: \"▾\";}#sk-container-id-1 div.sk-estimator input.sk-toggleable__control:checked~label.sk-toggleable__label {background-color: #d4ebff;}#sk-container-id-1 div.sk-label input.sk-toggleable__control:checked~label.sk-toggleable__label {background-color: #d4ebff;}#sk-container-id-1 input.sk-hidden--visually {border: 0;clip: rect(1px 1px 1px 1px);clip: rect(1px, 1px, 1px, 1px);height: 1px;margin: -1px;overflow: hidden;padding: 0;position: absolute;width: 1px;}#sk-container-id-1 div.sk-estimator {font-family: monospace;background-color: #f0f8ff;border: 1px dotted black;border-radius: 0.25em;box-sizing: border-box;margin-bottom: 0.5em;}#sk-container-id-1 div.sk-estimator:hover {background-color: #d4ebff;}#sk-container-id-1 div.sk-parallel-item::after {content: \"\";width: 100%;border-bottom: 1px solid gray;flex-grow: 1;}#sk-container-id-1 div.sk-label:hover label.sk-toggleable__label {background-color: #d4ebff;}#sk-container-id-1 div.sk-serial::before {content: \"\";position: absolute;border-left: 1px solid gray;box-sizing: border-box;top: 0;bottom: 0;left: 50%;z-index: 0;}#sk-container-id-1 div.sk-serial {display: flex;flex-direction: column;align-items: center;background-color: white;padding-right: 0.2em;padding-left: 0.2em;position: relative;}#sk-container-id-1 div.sk-item {position: relative;z-index: 1;}#sk-container-id-1 div.sk-parallel {display: flex;align-items: stretch;justify-content: center;background-color: white;position: relative;}#sk-container-id-1 div.sk-item::before, #sk-container-id-1 div.sk-parallel-item::before {content: \"\";position: absolute;border-left: 1px solid gray;box-sizing: border-box;top: 0;bottom: 0;left: 50%;z-index: -1;}#sk-container-id-1 div.sk-parallel-item {display: flex;flex-direction: column;z-index: 1;position: relative;background-color: white;}#sk-container-id-1 div.sk-parallel-item:first-child::after {align-self: flex-end;width: 50%;}#sk-container-id-1 div.sk-parallel-item:last-child::after {align-self: flex-start;width: 50%;}#sk-container-id-1 div.sk-parallel-item:only-child::after {width: 0;}#sk-container-id-1 div.sk-dashed-wrapped {border: 1px dashed gray;margin: 0 0.4em 0.5em 0.4em;box-sizing: border-box;padding-bottom: 0.4em;background-color: white;}#sk-container-id-1 div.sk-label label {font-family: monospace;font-weight: bold;display: inline-block;line-height: 1.2em;}#sk-container-id-1 div.sk-label-container {text-align: center;}#sk-container-id-1 div.sk-container {/* jupyter's `normalize.less` sets `[hidden] { display: none; }` but bootstrap.min.css set `[hidden] { display: none !important; }` so we also need the `!important` here to be able to override the default hidden behavior on the sphinx rendered scikit-learn.org. See: https://github.com/scikit-learn/scikit-learn/issues/21755 */display: inline-block !important;position: relative;}#sk-container-id-1 div.sk-text-repr-fallback {display: none;}</style><div id=\"sk-container-id-1\" class=\"sk-top-container\"><div class=\"sk-text-repr-fallback\"><pre>GridSearchCV(cv=3, estimator=SVR(),\n",
       "             param_grid={&#x27;C&#x27;: [0.1, 1, 10], &#x27;epsilon&#x27;: [0.01, 0.1, 1],\n",
       "                         &#x27;gamma&#x27;: [0.001, 0.01, 0.5], &#x27;kernel&#x27;: [&#x27;rbf&#x27;]},\n",
       "             scoring=&#x27;neg_mean_squared_error&#x27;, verbose=1)</pre><b>In a Jupyter environment, please rerun this cell to show the HTML representation or trust the notebook. <br />On GitHub, the HTML representation is unable to render, please try loading this page with nbviewer.org.</b></div><div class=\"sk-container\" hidden><div class=\"sk-item sk-dashed-wrapped\"><div class=\"sk-label-container\"><div class=\"sk-label sk-toggleable\"><input class=\"sk-toggleable__control sk-hidden--visually\" id=\"sk-estimator-id-1\" type=\"checkbox\" ><label for=\"sk-estimator-id-1\" class=\"sk-toggleable__label sk-toggleable__label-arrow\">GridSearchCV</label><div class=\"sk-toggleable__content\"><pre>GridSearchCV(cv=3, estimator=SVR(),\n",
       "             param_grid={&#x27;C&#x27;: [0.1, 1, 10], &#x27;epsilon&#x27;: [0.01, 0.1, 1],\n",
       "                         &#x27;gamma&#x27;: [0.001, 0.01, 0.5], &#x27;kernel&#x27;: [&#x27;rbf&#x27;]},\n",
       "             scoring=&#x27;neg_mean_squared_error&#x27;, verbose=1)</pre></div></div></div><div class=\"sk-parallel\"><div class=\"sk-parallel-item\"><div class=\"sk-item\"><div class=\"sk-label-container\"><div class=\"sk-label sk-toggleable\"><input class=\"sk-toggleable__control sk-hidden--visually\" id=\"sk-estimator-id-2\" type=\"checkbox\" ><label for=\"sk-estimator-id-2\" class=\"sk-toggleable__label sk-toggleable__label-arrow\">estimator: SVR</label><div class=\"sk-toggleable__content\"><pre>SVR()</pre></div></div></div><div class=\"sk-serial\"><div class=\"sk-item\"><div class=\"sk-estimator sk-toggleable\"><input class=\"sk-toggleable__control sk-hidden--visually\" id=\"sk-estimator-id-3\" type=\"checkbox\" ><label for=\"sk-estimator-id-3\" class=\"sk-toggleable__label sk-toggleable__label-arrow\">SVR</label><div class=\"sk-toggleable__content\"><pre>SVR()</pre></div></div></div></div></div></div></div></div></div></div>"
      ],
      "text/plain": [
       "GridSearchCV(cv=3, estimator=SVR(),\n",
       "             param_grid={'C': [0.1, 1, 10], 'epsilon': [0.01, 0.1, 1],\n",
       "                         'gamma': [0.001, 0.01, 0.5], 'kernel': ['rbf']},\n",
       "             scoring='neg_mean_squared_error', verbose=1)"
      ]
     },
     "execution_count": 12,
     "metadata": {},
     "output_type": "execute_result"
    }
   ],
   "source": [
    "from sklearn.model_selection import GridSearchCV\n",
    "\n",
    "# Define the parameter grid for hyperparameter tuning\n",
    "param_grid = {\n",
    "    'C': [0.1, 1, 10],        # Regularization parameter\n",
    "    'gamma': [0.001, 0.01, 0.5],  # Kernel coefficient\n",
    "    'epsilon': [0.01, 0.1, 1],  # Epsilon in the epsilon-SVR model\n",
    "    'kernel': ['rbf']              # Use RBF kernel\n",
    "}\n",
    "\n",
    "# Set up GridSearchCV with SVR\n",
    "grid_search = GridSearchCV(\n",
    "    SVR(),\n",
    "    param_grid,\n",
    "    scoring='neg_mean_squared_error',  # Using negative MSE for scoring\n",
    "    cv=3,  # 3-fold cross-validation\n",
    "    verbose=1\n",
    ")\n",
    "\n",
    "# Run grid search on the scaled training data\n",
    "grid_search.fit(X_train_partial_scaled, y_train)\n",
    "\n"
   ]
  },
  {
   "cell_type": "code",
   "execution_count": 13,
   "id": "6cc7e23c",
   "metadata": {},
   "outputs": [
    {
     "name": "stdout",
     "output_type": "stream",
     "text": [
      "Best parameters found:  {'C': 10, 'epsilon': 0.1, 'gamma': 0.001, 'kernel': 'rbf'}\n",
      "Best cross-validation score (negative MSE):  -984.300484420333\n"
     ]
    },
    {
     "data": {
      "text/html": [
       "<style>#sk-container-id-2 {color: black;background-color: white;}#sk-container-id-2 pre{padding: 0;}#sk-container-id-2 div.sk-toggleable {background-color: white;}#sk-container-id-2 label.sk-toggleable__label {cursor: pointer;display: block;width: 100%;margin-bottom: 0;padding: 0.3em;box-sizing: border-box;text-align: center;}#sk-container-id-2 label.sk-toggleable__label-arrow:before {content: \"▸\";float: left;margin-right: 0.25em;color: #696969;}#sk-container-id-2 label.sk-toggleable__label-arrow:hover:before {color: black;}#sk-container-id-2 div.sk-estimator:hover label.sk-toggleable__label-arrow:before {color: black;}#sk-container-id-2 div.sk-toggleable__content {max-height: 0;max-width: 0;overflow: hidden;text-align: left;background-color: #f0f8ff;}#sk-container-id-2 div.sk-toggleable__content pre {margin: 0.2em;color: black;border-radius: 0.25em;background-color: #f0f8ff;}#sk-container-id-2 input.sk-toggleable__control:checked~div.sk-toggleable__content {max-height: 200px;max-width: 100%;overflow: auto;}#sk-container-id-2 input.sk-toggleable__control:checked~label.sk-toggleable__label-arrow:before {content: \"▾\";}#sk-container-id-2 div.sk-estimator input.sk-toggleable__control:checked~label.sk-toggleable__label {background-color: #d4ebff;}#sk-container-id-2 div.sk-label input.sk-toggleable__control:checked~label.sk-toggleable__label {background-color: #d4ebff;}#sk-container-id-2 input.sk-hidden--visually {border: 0;clip: rect(1px 1px 1px 1px);clip: rect(1px, 1px, 1px, 1px);height: 1px;margin: -1px;overflow: hidden;padding: 0;position: absolute;width: 1px;}#sk-container-id-2 div.sk-estimator {font-family: monospace;background-color: #f0f8ff;border: 1px dotted black;border-radius: 0.25em;box-sizing: border-box;margin-bottom: 0.5em;}#sk-container-id-2 div.sk-estimator:hover {background-color: #d4ebff;}#sk-container-id-2 div.sk-parallel-item::after {content: \"\";width: 100%;border-bottom: 1px solid gray;flex-grow: 1;}#sk-container-id-2 div.sk-label:hover label.sk-toggleable__label {background-color: #d4ebff;}#sk-container-id-2 div.sk-serial::before {content: \"\";position: absolute;border-left: 1px solid gray;box-sizing: border-box;top: 0;bottom: 0;left: 50%;z-index: 0;}#sk-container-id-2 div.sk-serial {display: flex;flex-direction: column;align-items: center;background-color: white;padding-right: 0.2em;padding-left: 0.2em;position: relative;}#sk-container-id-2 div.sk-item {position: relative;z-index: 1;}#sk-container-id-2 div.sk-parallel {display: flex;align-items: stretch;justify-content: center;background-color: white;position: relative;}#sk-container-id-2 div.sk-item::before, #sk-container-id-2 div.sk-parallel-item::before {content: \"\";position: absolute;border-left: 1px solid gray;box-sizing: border-box;top: 0;bottom: 0;left: 50%;z-index: -1;}#sk-container-id-2 div.sk-parallel-item {display: flex;flex-direction: column;z-index: 1;position: relative;background-color: white;}#sk-container-id-2 div.sk-parallel-item:first-child::after {align-self: flex-end;width: 50%;}#sk-container-id-2 div.sk-parallel-item:last-child::after {align-self: flex-start;width: 50%;}#sk-container-id-2 div.sk-parallel-item:only-child::after {width: 0;}#sk-container-id-2 div.sk-dashed-wrapped {border: 1px dashed gray;margin: 0 0.4em 0.5em 0.4em;box-sizing: border-box;padding-bottom: 0.4em;background-color: white;}#sk-container-id-2 div.sk-label label {font-family: monospace;font-weight: bold;display: inline-block;line-height: 1.2em;}#sk-container-id-2 div.sk-label-container {text-align: center;}#sk-container-id-2 div.sk-container {/* jupyter's `normalize.less` sets `[hidden] { display: none; }` but bootstrap.min.css set `[hidden] { display: none !important; }` so we also need the `!important` here to be able to override the default hidden behavior on the sphinx rendered scikit-learn.org. See: https://github.com/scikit-learn/scikit-learn/issues/21755 */display: inline-block !important;position: relative;}#sk-container-id-2 div.sk-text-repr-fallback {display: none;}</style><div id=\"sk-container-id-2\" class=\"sk-top-container\"><div class=\"sk-text-repr-fallback\"><pre>SVR(C=10, gamma=0.001)</pre><b>In a Jupyter environment, please rerun this cell to show the HTML representation or trust the notebook. <br />On GitHub, the HTML representation is unable to render, please try loading this page with nbviewer.org.</b></div><div class=\"sk-container\" hidden><div class=\"sk-item\"><div class=\"sk-estimator sk-toggleable\"><input class=\"sk-toggleable__control sk-hidden--visually\" id=\"sk-estimator-id-4\" type=\"checkbox\" checked><label for=\"sk-estimator-id-4\" class=\"sk-toggleable__label sk-toggleable__label-arrow\">SVR</label><div class=\"sk-toggleable__content\"><pre>SVR(C=10, gamma=0.001)</pre></div></div></div></div></div>"
      ],
      "text/plain": [
       "SVR(C=10, gamma=0.001)"
      ]
     },
     "execution_count": 13,
     "metadata": {},
     "output_type": "execute_result"
    }
   ],
   "source": [
    "\n",
    "# Print the best parameters and the best score\n",
    "print(\"Best parameters found: \", grid_search.best_params_)\n",
    "print(\"Best cross-validation score (negative MSE): \", grid_search.best_score_)\n",
    "\n",
    "# Train the model using the best parameters\n",
    "best_svm_model = grid_search.best_estimator_\n",
    "\n",
    "best_svm_model.fit(X_train_partial_scaled, y_train) "
   ]
  },
  {
   "cell_type": "code",
   "execution_count": 14,
   "id": "72f4a772",
   "metadata": {},
   "outputs": [
    {
     "data": {
      "text/plain": [
       "['best_svm_model.pkl']"
      ]
     },
     "execution_count": 14,
     "metadata": {},
     "output_type": "execute_result"
    }
   ],
   "source": [
    "import joblib\n",
    "joblib_file = \"best_svm_model.pkl\"  \n",
    "joblib.dump(best_svm_model, joblib_file)\n",
    "\n"
   ]
  },
  {
   "cell_type": "code",
   "execution_count": 10,
   "id": "dbd89690",
   "metadata": {},
   "outputs": [
    {
     "name": "stderr",
     "output_type": "stream",
     "text": [
      "c:\\Users\\dmhan\\anaconda3\\Lib\\site-packages\\sklearn\\base.py:347: InconsistentVersionWarning: Trying to unpickle estimator SVR from version 1.2.2 when using version 1.3.0. This might lead to breaking code or invalid results. Use at your own risk. For more info please refer to:\n",
      "https://scikit-learn.org/stable/model_persistence.html#security-maintainability-limitations\n",
      "  warnings.warn(\n"
     ]
    },
    {
     "data": {
      "text/html": [
       "<style>#sk-container-id-1 {color: black;}#sk-container-id-1 pre{padding: 0;}#sk-container-id-1 div.sk-toggleable {background-color: white;}#sk-container-id-1 label.sk-toggleable__label {cursor: pointer;display: block;width: 100%;margin-bottom: 0;padding: 0.3em;box-sizing: border-box;text-align: center;}#sk-container-id-1 label.sk-toggleable__label-arrow:before {content: \"▸\";float: left;margin-right: 0.25em;color: #696969;}#sk-container-id-1 label.sk-toggleable__label-arrow:hover:before {color: black;}#sk-container-id-1 div.sk-estimator:hover label.sk-toggleable__label-arrow:before {color: black;}#sk-container-id-1 div.sk-toggleable__content {max-height: 0;max-width: 0;overflow: hidden;text-align: left;background-color: #f0f8ff;}#sk-container-id-1 div.sk-toggleable__content pre {margin: 0.2em;color: black;border-radius: 0.25em;background-color: #f0f8ff;}#sk-container-id-1 input.sk-toggleable__control:checked~div.sk-toggleable__content {max-height: 200px;max-width: 100%;overflow: auto;}#sk-container-id-1 input.sk-toggleable__control:checked~label.sk-toggleable__label-arrow:before {content: \"▾\";}#sk-container-id-1 div.sk-estimator input.sk-toggleable__control:checked~label.sk-toggleable__label {background-color: #d4ebff;}#sk-container-id-1 div.sk-label input.sk-toggleable__control:checked~label.sk-toggleable__label {background-color: #d4ebff;}#sk-container-id-1 input.sk-hidden--visually {border: 0;clip: rect(1px 1px 1px 1px);clip: rect(1px, 1px, 1px, 1px);height: 1px;margin: -1px;overflow: hidden;padding: 0;position: absolute;width: 1px;}#sk-container-id-1 div.sk-estimator {font-family: monospace;background-color: #f0f8ff;border: 1px dotted black;border-radius: 0.25em;box-sizing: border-box;margin-bottom: 0.5em;}#sk-container-id-1 div.sk-estimator:hover {background-color: #d4ebff;}#sk-container-id-1 div.sk-parallel-item::after {content: \"\";width: 100%;border-bottom: 1px solid gray;flex-grow: 1;}#sk-container-id-1 div.sk-label:hover label.sk-toggleable__label {background-color: #d4ebff;}#sk-container-id-1 div.sk-serial::before {content: \"\";position: absolute;border-left: 1px solid gray;box-sizing: border-box;top: 0;bottom: 0;left: 50%;z-index: 0;}#sk-container-id-1 div.sk-serial {display: flex;flex-direction: column;align-items: center;background-color: white;padding-right: 0.2em;padding-left: 0.2em;position: relative;}#sk-container-id-1 div.sk-item {position: relative;z-index: 1;}#sk-container-id-1 div.sk-parallel {display: flex;align-items: stretch;justify-content: center;background-color: white;position: relative;}#sk-container-id-1 div.sk-item::before, #sk-container-id-1 div.sk-parallel-item::before {content: \"\";position: absolute;border-left: 1px solid gray;box-sizing: border-box;top: 0;bottom: 0;left: 50%;z-index: -1;}#sk-container-id-1 div.sk-parallel-item {display: flex;flex-direction: column;z-index: 1;position: relative;background-color: white;}#sk-container-id-1 div.sk-parallel-item:first-child::after {align-self: flex-end;width: 50%;}#sk-container-id-1 div.sk-parallel-item:last-child::after {align-self: flex-start;width: 50%;}#sk-container-id-1 div.sk-parallel-item:only-child::after {width: 0;}#sk-container-id-1 div.sk-dashed-wrapped {border: 1px dashed gray;margin: 0 0.4em 0.5em 0.4em;box-sizing: border-box;padding-bottom: 0.4em;background-color: white;}#sk-container-id-1 div.sk-label label {font-family: monospace;font-weight: bold;display: inline-block;line-height: 1.2em;}#sk-container-id-1 div.sk-label-container {text-align: center;}#sk-container-id-1 div.sk-container {/* jupyter's `normalize.less` sets `[hidden] { display: none; }` but bootstrap.min.css set `[hidden] { display: none !important; }` so we also need the `!important` here to be able to override the default hidden behavior on the sphinx rendered scikit-learn.org. See: https://github.com/scikit-learn/scikit-learn/issues/21755 */display: inline-block !important;position: relative;}#sk-container-id-1 div.sk-text-repr-fallback {display: none;}</style><div id=\"sk-container-id-1\" class=\"sk-top-container\"><div class=\"sk-text-repr-fallback\"><pre>SVR(C=10, gamma=0.001)</pre><b>In a Jupyter environment, please rerun this cell to show the HTML representation or trust the notebook. <br />On GitHub, the HTML representation is unable to render, please try loading this page with nbviewer.org.</b></div><div class=\"sk-container\" hidden><div class=\"sk-item\"><div class=\"sk-estimator sk-toggleable\"><input class=\"sk-toggleable__control sk-hidden--visually\" id=\"sk-estimator-id-1\" type=\"checkbox\" checked><label for=\"sk-estimator-id-1\" class=\"sk-toggleable__label sk-toggleable__label-arrow\">SVR</label><div class=\"sk-toggleable__content\"><pre>SVR(C=10, gamma=0.001)</pre></div></div></div></div></div>"
      ],
      "text/plain": [
       "SVR(C=10, gamma=0.001)"
      ]
     },
     "execution_count": 10,
     "metadata": {},
     "output_type": "execute_result"
    }
   ],
   "source": [
    "# Load from file\n",
    "\n",
    "import joblib\n",
    "joblib_file = \"best_svm_model.pkl\"  \n",
    "joblib_SVM_model = joblib.load(joblib_file)\n",
    "\n",
    "\n",
    "joblib_SVM_model"
   ]
  },
  {
   "cell_type": "code",
   "execution_count": null,
   "id": "d7044656",
   "metadata": {},
   "outputs": [
    {
     "name": "stdout",
     "output_type": "stream",
     "text": [
      "Test score: 96.95 %\n"
     ]
    }
   ],
   "source": [
    "# Use the Reloaded Joblib Model to \n",
    "# Calculate the accuracy score and predict target values\n",
    "\n",
    "# Calculate the Score \n",
    "score = joblib_SVM_model.score(X_test_partial_scaled, y_test)  \n",
    "# Print the Score\n",
    "print(\"Test score: {0:.2f} %\".format(100 * score))  \n"
   ]
  },
  {
   "cell_type": "code",
   "execution_count": 12,
   "id": "17fd83d5",
   "metadata": {},
   "outputs": [
    {
     "name": "stdout",
     "output_type": "stream",
     "text": [
      "SVM model hyperparameter tuning:\n",
      "Tuned SVM Mean Absolute Error (MAE): 21.3325\n",
      "Tuned SVM Mean Squared Error (MSE): 882.3109\n",
      "Tuned SVM Root Mean Squared Error (RMSE): 29.7037\n",
      "Tuned SVM R-squared (R2): 0.9695\n",
      "Tuned SVM Mean Absolute Percentage Error (MAPE): 5.6417%\n",
      "Tuned SVM Explained Variance Score: 0.9696\n",
      "Tuned SVM Max Error: 297.4948\n"
     ]
    }
   ],
   "source": [
    "# Predict the Labels using the reloaded Model\n",
    "y_pred_tuned = joblib_SVM_model.predict(X_test_partial_scaled)\n",
    "\n",
    "# Evaluate the tuned model with various metrics\n",
    "mae_tuned = mean_absolute_error(y_test, y_pred_tuned)\n",
    "mse_tuned = mean_squared_error(y_test, y_pred_tuned)\n",
    "rmse_tuned = mean_squared_error(y_test, y_pred_tuned, squared=False)\n",
    "r2_tuned = r2_score(y_test, y_pred_tuned)\n",
    "mape_tuned = (abs((y_test - y_pred_tuned) / y_test).mean()) * 100\n",
    "evs_tuned = explained_variance_score(y_test, y_pred_tuned)\n",
    "max_err_tuned = max_error(y_test, y_pred_tuned)\n",
    "\n",
    "# Print the evaluation metrics for the tuned model\n",
    "print(f\"SVM model hyperparameter tuning:\")\n",
    "print(f\"Tuned SVM Mean Absolute Error (MAE): {mae_tuned:.4f}\")\n",
    "print(f\"Tuned SVM Mean Squared Error (MSE): {mse_tuned:.4f}\")\n",
    "print(f\"Tuned SVM Root Mean Squared Error (RMSE): {rmse_tuned:.4f}\")\n",
    "print(f\"Tuned SVM R-squared (R2): {r2_tuned:.4f}\")\n",
    "print(f\"Tuned SVM Mean Absolute Percentage Error (MAPE): {mape_tuned:.4f}%\")\n",
    "print(f\"Tuned SVM Explained Variance Score: {evs_tuned:.4f}\")\n",
    "print(f\"Tuned SVM Max Error: {max_err_tuned:.4f}\")\n"
   ]
  },
  {
   "cell_type": "markdown",
   "id": "d49642b1",
   "metadata": {},
   "source": [
    "#### KNN"
   ]
  },
  {
   "cell_type": "code",
   "execution_count": 14,
   "id": "78fefdf1",
   "metadata": {},
   "outputs": [
    {
     "name": "stdout",
     "output_type": "stream",
     "text": [
      "Fitting 3 folds for each of 30 candidates, totalling 90 fits\n",
      "Best parameters found:  {'metric': 'manhattan', 'n_neighbors': 15, 'weights': <function custom_weight at 0x0000013B6774A980>}\n",
      "Best cross-validation score (negative MSE):  -1587.5531463635853\n"
     ]
    },
    {
     "data": {
      "text/html": [
       "<style>#sk-container-id-2 {color: black;}#sk-container-id-2 pre{padding: 0;}#sk-container-id-2 div.sk-toggleable {background-color: white;}#sk-container-id-2 label.sk-toggleable__label {cursor: pointer;display: block;width: 100%;margin-bottom: 0;padding: 0.3em;box-sizing: border-box;text-align: center;}#sk-container-id-2 label.sk-toggleable__label-arrow:before {content: \"▸\";float: left;margin-right: 0.25em;color: #696969;}#sk-container-id-2 label.sk-toggleable__label-arrow:hover:before {color: black;}#sk-container-id-2 div.sk-estimator:hover label.sk-toggleable__label-arrow:before {color: black;}#sk-container-id-2 div.sk-toggleable__content {max-height: 0;max-width: 0;overflow: hidden;text-align: left;background-color: #f0f8ff;}#sk-container-id-2 div.sk-toggleable__content pre {margin: 0.2em;color: black;border-radius: 0.25em;background-color: #f0f8ff;}#sk-container-id-2 input.sk-toggleable__control:checked~div.sk-toggleable__content {max-height: 200px;max-width: 100%;overflow: auto;}#sk-container-id-2 input.sk-toggleable__control:checked~label.sk-toggleable__label-arrow:before {content: \"▾\";}#sk-container-id-2 div.sk-estimator input.sk-toggleable__control:checked~label.sk-toggleable__label {background-color: #d4ebff;}#sk-container-id-2 div.sk-label input.sk-toggleable__control:checked~label.sk-toggleable__label {background-color: #d4ebff;}#sk-container-id-2 input.sk-hidden--visually {border: 0;clip: rect(1px 1px 1px 1px);clip: rect(1px, 1px, 1px, 1px);height: 1px;margin: -1px;overflow: hidden;padding: 0;position: absolute;width: 1px;}#sk-container-id-2 div.sk-estimator {font-family: monospace;background-color: #f0f8ff;border: 1px dotted black;border-radius: 0.25em;box-sizing: border-box;margin-bottom: 0.5em;}#sk-container-id-2 div.sk-estimator:hover {background-color: #d4ebff;}#sk-container-id-2 div.sk-parallel-item::after {content: \"\";width: 100%;border-bottom: 1px solid gray;flex-grow: 1;}#sk-container-id-2 div.sk-label:hover label.sk-toggleable__label {background-color: #d4ebff;}#sk-container-id-2 div.sk-serial::before {content: \"\";position: absolute;border-left: 1px solid gray;box-sizing: border-box;top: 0;bottom: 0;left: 50%;z-index: 0;}#sk-container-id-2 div.sk-serial {display: flex;flex-direction: column;align-items: center;background-color: white;padding-right: 0.2em;padding-left: 0.2em;position: relative;}#sk-container-id-2 div.sk-item {position: relative;z-index: 1;}#sk-container-id-2 div.sk-parallel {display: flex;align-items: stretch;justify-content: center;background-color: white;position: relative;}#sk-container-id-2 div.sk-item::before, #sk-container-id-2 div.sk-parallel-item::before {content: \"\";position: absolute;border-left: 1px solid gray;box-sizing: border-box;top: 0;bottom: 0;left: 50%;z-index: -1;}#sk-container-id-2 div.sk-parallel-item {display: flex;flex-direction: column;z-index: 1;position: relative;background-color: white;}#sk-container-id-2 div.sk-parallel-item:first-child::after {align-self: flex-end;width: 50%;}#sk-container-id-2 div.sk-parallel-item:last-child::after {align-self: flex-start;width: 50%;}#sk-container-id-2 div.sk-parallel-item:only-child::after {width: 0;}#sk-container-id-2 div.sk-dashed-wrapped {border: 1px dashed gray;margin: 0 0.4em 0.5em 0.4em;box-sizing: border-box;padding-bottom: 0.4em;background-color: white;}#sk-container-id-2 div.sk-label label {font-family: monospace;font-weight: bold;display: inline-block;line-height: 1.2em;}#sk-container-id-2 div.sk-label-container {text-align: center;}#sk-container-id-2 div.sk-container {/* jupyter's `normalize.less` sets `[hidden] { display: none; }` but bootstrap.min.css set `[hidden] { display: none !important; }` so we also need the `!important` here to be able to override the default hidden behavior on the sphinx rendered scikit-learn.org. See: https://github.com/scikit-learn/scikit-learn/issues/21755 */display: inline-block !important;position: relative;}#sk-container-id-2 div.sk-text-repr-fallback {display: none;}</style><div id=\"sk-container-id-2\" class=\"sk-top-container\"><div class=\"sk-text-repr-fallback\"><pre>KNeighborsRegressor(metric=&#x27;manhattan&#x27;, n_neighbors=15,\n",
       "                    weights=&lt;function custom_weight at 0x0000013B6774A980&gt;)</pre><b>In a Jupyter environment, please rerun this cell to show the HTML representation or trust the notebook. <br />On GitHub, the HTML representation is unable to render, please try loading this page with nbviewer.org.</b></div><div class=\"sk-container\" hidden><div class=\"sk-item\"><div class=\"sk-estimator sk-toggleable\"><input class=\"sk-toggleable__control sk-hidden--visually\" id=\"sk-estimator-id-2\" type=\"checkbox\" checked><label for=\"sk-estimator-id-2\" class=\"sk-toggleable__label sk-toggleable__label-arrow\">KNeighborsRegressor</label><div class=\"sk-toggleable__content\"><pre>KNeighborsRegressor(metric=&#x27;manhattan&#x27;, n_neighbors=15,\n",
       "                    weights=&lt;function custom_weight at 0x0000013B6774A980&gt;)</pre></div></div></div></div></div>"
      ],
      "text/plain": [
       "KNeighborsRegressor(metric='manhattan', n_neighbors=15,\n",
       "                    weights=<function custom_weight at 0x0000013B6774A980>)"
      ]
     },
     "execution_count": 14,
     "metadata": {},
     "output_type": "execute_result"
    }
   ],
   "source": [
    "from sklearn.model_selection import GridSearchCV\n",
    "from sklearn.neighbors import KNeighborsRegressor\n",
    "from sklearn.metrics import mean_absolute_error, mean_squared_error, r2_score, mean_absolute_percentage_error, explained_variance_score, max_error\n",
    "\n",
    "def custom_weight(distances):\n",
    "    return 1 / (distances + 1e-5) \n",
    "\n",
    "# Define the parameter grid for tuning\n",
    "param_grid = {\n",
    "    'n_neighbors': [3, 5, 7, 10, 15], \n",
    "    'weights': ['uniform', custom_weight], \n",
    "    'metric': ['euclidean', 'manhattan', 'minkowski']  \n",
    "}\n",
    "\n",
    "# Set up GridSearchCV\n",
    "grid_search_knn = GridSearchCV(\n",
    "    KNeighborsRegressor(),\n",
    "    param_grid,\n",
    "    scoring='neg_mean_squared_error',  \n",
    "    cv=3,  \n",
    "    verbose=1\n",
    ")\n",
    "\n",
    "# Fit GridSearchCV to the training data\n",
    "grid_search_knn.fit(X_train_partial_scaled, y_train)\n",
    "\n",
    "# Print the best parameters and the best score\n",
    "print(\"Best parameters found: \", grid_search_knn.best_params_)\n",
    "print(\"Best cross-validation score (negative MSE): \", grid_search_knn.best_score_)\n",
    "\n",
    "# Retrieve the best model from GridSearchCV\n",
    "best_knn_model = grid_search_knn.best_estimator_\n",
    "\n",
    "best_knn_model.fit(X_train_partial_scaled, y_train) \n"
   ]
  },
  {
   "cell_type": "code",
   "execution_count": 15,
   "id": "29348b08",
   "metadata": {},
   "outputs": [
    {
     "name": "stdout",
     "output_type": "stream",
     "text": [
      "Best parameters found:  {'metric': 'manhattan', 'n_neighbors': 15, 'weights': <function custom_weight at 0x0000013B6774A980>}\n",
      "Best cross-validation score (negative MSE):  -1587.5531463635853\n"
     ]
    }
   ],
   "source": [
    "# Print the best parameters and the best score\n",
    "print(\"Best parameters found: \", grid_search_knn.best_params_)\n",
    "print(\"Best cross-validation score (negative MSE): \", grid_search_knn.best_score_)"
   ]
  },
  {
   "cell_type": "code",
   "execution_count": 16,
   "id": "b60346fc",
   "metadata": {},
   "outputs": [
    {
     "data": {
      "text/plain": [
       "['KNN_model.pkl']"
      ]
     },
     "execution_count": 16,
     "metadata": {},
     "output_type": "execute_result"
    }
   ],
   "source": [
    "import joblib\n",
    "\n",
    "class ModelWrapper:\n",
    "    def __init__(self, model, custom_function):\n",
    "        self.model = model\n",
    "        self.custom_function = custom_function\n",
    "\n",
    "wrapper = ModelWrapper(best_knn_model, custom_weight)\n",
    "joblib.dump(wrapper, \"KNN_model.pkl\")\n"
   ]
  },
  {
   "cell_type": "code",
   "execution_count": 17,
   "id": "abe3ef2f",
   "metadata": {},
   "outputs": [
    {
     "name": "stdout",
     "output_type": "stream",
     "text": [
      "KNeighborsRegressor(metric='manhattan', n_neighbors=15,\n",
      "                    weights=<function custom_weight at 0x0000013B62ABEFC0>)\n",
      "<function custom_weight at 0x0000013B62ABEFC0>\n"
     ]
    }
   ],
   "source": [
    "import joblib\n",
    "\n",
    "class ModelWrapper:\n",
    "    def __init__(self, model, weight_function):\n",
    "        self.model = model\n",
    "        self.custom_function = custom_function\n",
    "\n",
    "def custom_weight(distances):\n",
    "    return 1 / (distances + 1e-5)\n",
    "\n",
    "# Load the model\n",
    "wrapper = joblib.load(\"KNN_model.pkl\")\n",
    "knn_model = wrapper.model\n",
    "custom_function = wrapper.custom_function\n",
    "\n",
    "print(knn_model)\n",
    "print(custom_function)\n"
   ]
  },
  {
   "cell_type": "code",
   "execution_count": 18,
   "id": "951c8793",
   "metadata": {},
   "outputs": [
    {
     "name": "stdout",
     "output_type": "stream",
     "text": [
      "Test score: 95.24 %\n"
     ]
    },
    {
     "data": {
      "text/plain": [
       "array([408.53502862, 406.48797356, 406.62202912, ..., 191.04572436,\n",
       "       190.31431416, 190.10264566])"
      ]
     },
     "execution_count": 18,
     "metadata": {},
     "output_type": "execute_result"
    }
   ],
   "source": [
    "# Use the Reloaded Joblib Model to \n",
    "# Calculate the accuracy score and predict target values\n",
    "\n",
    "# Calculate the Score \n",
    "score_KNN = knn_model.score(X_test_partial_scaled, y_test)  \n",
    "# Print the Score\n",
    "print(\"Test score: {0:.2f} %\".format(100 * score_KNN))  \n",
    "\n",
    "# Predict the Labels using the reloaded Model\n",
    "Ypredict_KNN = knn_model.predict(X_test_partial_scaled)  \n",
    "\n",
    "Ypredict_KNN"
   ]
  },
  {
   "cell_type": "code",
   "execution_count": 19,
   "id": "381dc581",
   "metadata": {},
   "outputs": [
    {
     "name": "stdout",
     "output_type": "stream",
     "text": [
      "KNN Mean Absolute Error (MAE): 26.8363\n",
      "KNN Mean Squared Error (MSE): 1377.9526\n",
      "KNN Root Mean Squared Error (RMSE): 37.1208\n",
      "KNN R-squared (R2): 0.9524\n",
      "KNN Mean Absolute Percentage Error (MAPE): 5.6417%\n",
      "KNN Explained Variance Score: 0.9555\n",
      "KNN Max Error: 339.2431\n"
     ]
    }
   ],
   "source": [
    "# Make predictions on the test set\n",
    "y_pred_knn_tuned = knn_model.predict(X_test_partial_scaled)\n",
    "\n",
    "# Calculate the evaluation metrics\n",
    "mae_knn = mean_absolute_error(y_test, y_pred_knn_tuned)\n",
    "mse_knn = mean_squared_error(y_test, y_pred_knn_tuned)\n",
    "rmse_knn = mean_squared_error(y_test, y_pred_knn_tuned, squared=False)\n",
    "r2_knn = r2_score(y_test, y_pred_knn_tuned)\n",
    "mape_knn = (abs((y_test - y_pred_tuned) / y_test).mean()) * 100  # Convert to percentage\n",
    "evs_knn = explained_variance_score(y_test, y_pred_knn_tuned)\n",
    "max_err_knn = max_error(y_test, y_pred_knn_tuned)\n",
    "\n",
    "# Print the evaluation metrics\n",
    "print(f\"KNN Mean Absolute Error (MAE): {mae_knn:.4f}\")\n",
    "print(f\"KNN Mean Squared Error (MSE): {mse_knn:.4f}\")\n",
    "print(f\"KNN Root Mean Squared Error (RMSE): {rmse_knn:.4f}\")\n",
    "print(f\"KNN R-squared (R2): {r2_knn:.4f}\")\n",
    "print(f\"KNN Mean Absolute Percentage Error (MAPE): {mape_knn:.4f}%\")\n",
    "print(f\"KNN Explained Variance Score: {evs_knn:.4f}\")\n",
    "print(f\"KNN Max Error: {max_err_knn:.4f}\")"
   ]
  },
  {
   "cell_type": "markdown",
   "id": "ff9909dd",
   "metadata": {},
   "source": [
    "### Result comparision and disscussion"
   ]
  },
  {
   "cell_type": "code",
   "execution_count": 20,
   "id": "52aea07b",
   "metadata": {},
   "outputs": [
    {
     "name": "stdout",
     "output_type": "stream",
     "text": [
      "                                  Metric  SVM (RBF Kernel)          KNN\n",
      "0              Mean Absolute Error (MAE)         21.332516    26.836255\n",
      "1               Mean Squared Error (MSE)        882.310904  1377.952618\n",
      "2         Root Mean Squared Error (RMSE)         29.703719    37.120784\n",
      "3                         R^2 Score (R2)          0.969495     0.952359\n",
      "4  Mean Absolute Percentage Error (MAPE)          5.641681     5.641681\n",
      "5         Explained Variance Score (EVS)          0.969602     0.955501\n"
     ]
    }
   ],
   "source": [
    "import pandas as pd\n",
    "\n",
    "# Define the evaluation metrics for SVM with RBF kernel\n",
    "metrics_svm = {\n",
    "    'Metric': ['Mean Absolute Error (MAE)', 'Mean Squared Error (MSE)', 'Root Mean Squared Error (RMSE)', \n",
    "               'R^2 Score (R2)', 'Mean Absolute Percentage Error (MAPE)', 'Explained Variance Score (EVS)'],\n",
    "    'SVM (RBF Kernel)': [mae_tuned, mse_tuned, rmse_tuned, r2_tuned, mape_tuned, evs_tuned]\n",
    "}\n",
    "\n",
    "# Define the evaluation metrics for KNN\n",
    "metrics_knn = {\n",
    "    'Metric': ['Mean Absolute Error (MAE)', 'Mean Squared Error (MSE)', 'Root Mean Squared Error (RMSE)', \n",
    "               'R^2 Score (R2)', 'Mean Absolute Percentage Error (MAPE)', 'Explained Variance Score (EVS)'],\n",
    "    'KNN': [mae_knn, mse_knn, rmse_knn, r2_knn, mape_knn, evs_knn]\n",
    "}\n",
    "\n",
    "# Create DataFrames\n",
    "df_svm = pd.DataFrame(metrics_svm)\n",
    "df_knn = pd.DataFrame(metrics_knn)\n",
    "\n",
    "# Merge DataFrames for a complete table\n",
    "df_results = pd.merge(df_svm, df_knn, on='Metric')\n",
    "\n",
    "# Display the table\n",
    "print(df_results)\n"
   ]
  },
  {
   "cell_type": "markdown",
   "id": "6440f6cd",
   "metadata": {},
   "source": []
  },
  {
   "cell_type": "markdown",
   "id": "442214fc",
   "metadata": {},
   "source": []
  }
 ],
 "metadata": {
  "kernelspec": {
   "display_name": "base",
   "language": "python",
   "name": "python3"
  },
  "language_info": {
   "codemirror_mode": {
    "name": "ipython",
    "version": 3
   },
   "file_extension": ".py",
   "mimetype": "text/x-python",
   "name": "python",
   "nbconvert_exporter": "python",
   "pygments_lexer": "ipython3",
   "version": "3.11.4"
  }
 },
 "nbformat": 4,
 "nbformat_minor": 5
}
