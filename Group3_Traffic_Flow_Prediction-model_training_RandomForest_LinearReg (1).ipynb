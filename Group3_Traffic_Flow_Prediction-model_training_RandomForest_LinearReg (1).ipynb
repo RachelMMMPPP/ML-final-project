{
 "cells": [
  {
   "cell_type": "code",
   "execution_count": 1,
   "id": "801cca08",
   "metadata": {
    "executionInfo": {
     "elapsed": 3752,
     "status": "ok",
     "timestamp": 1732305500065,
     "user": {
      "displayName": "Xingrong Ma",
      "userId": "15491193300019784207"
     },
     "user_tz": 480
    },
    "id": "801cca08"
   },
   "outputs": [],
   "source": [
    "import pandas as pd\n",
    "import numpy as np\n",
    "import matplotlib.pyplot as plt\n",
    "import seaborn as sns"
   ]
  },
  {
   "cell_type": "code",
   "execution_count": 2,
   "id": "1579fd41",
   "metadata": {
    "executionInfo": {
     "elapsed": 3,
     "status": "ok",
     "timestamp": 1732305505996,
     "user": {
      "displayName": "Xingrong Ma",
      "userId": "15491193300019784207"
     },
     "user_tz": 480
    },
    "id": "1579fd41"
   },
   "outputs": [],
   "source": [
    "%matplotlib inline"
   ]
  },
  {
   "cell_type": "code",
   "execution_count": 3,
   "id": "2fc7bc16",
   "metadata": {
    "colab": {
     "base_uri": "https://localhost:8080/",
     "height": 446
    },
    "executionInfo": {
     "elapsed": 315,
     "status": "ok",
     "timestamp": 1732305707312,
     "user": {
      "displayName": "Xingrong Ma",
      "userId": "15491193300019784207"
     },
     "user_tz": 480
    },
    "id": "2fc7bc16",
    "outputId": "12f4d57a-97df-4a2c-d1e8-5005ec25f82f"
   },
   "outputs": [
    {
     "data": {
      "text/html": [
       "<div>\n",
       "<style scoped>\n",
       "    .dataframe tbody tr th:only-of-type {\n",
       "        vertical-align: middle;\n",
       "    }\n",
       "\n",
       "    .dataframe tbody tr th {\n",
       "        vertical-align: top;\n",
       "    }\n",
       "\n",
       "    .dataframe thead th {\n",
       "        text-align: right;\n",
       "    }\n",
       "</style>\n",
       "<table border=\"1\" class=\"dataframe\">\n",
       "  <thead>\n",
       "    <tr style=\"text-align: right;\">\n",
       "      <th></th>\n",
       "      <th>5 Minutes</th>\n",
       "      <th>Flow</th>\n",
       "      <th>(mph)</th>\n",
       "      <th>week_day</th>\n",
       "      <th>holidays</th>\n",
       "      <th>Hour</th>\n",
       "      <th>Temperature</th>\n",
       "      <th>Dew Point</th>\n",
       "      <th>Humidity</th>\n",
       "      <th>Wind Speed</th>\n",
       "      <th>...</th>\n",
       "      <th>Condition_Fog</th>\n",
       "      <th>Condition_Haze</th>\n",
       "      <th>Condition_Heavy Rain</th>\n",
       "      <th>Condition_Light Rain</th>\n",
       "      <th>Condition_Mostly Cloudy</th>\n",
       "      <th>Condition_Mostly Cloudy / Windy</th>\n",
       "      <th>Condition_Partly Cloudy</th>\n",
       "      <th>Condition_Partly Cloudy / Windy</th>\n",
       "      <th>Condition_Rain</th>\n",
       "      <th>Condition_Thunder in the Vicinity</th>\n",
       "    </tr>\n",
       "  </thead>\n",
       "  <tbody>\n",
       "    <tr>\n",
       "      <th>0</th>\n",
       "      <td>2020-02-01 00:15:00</td>\n",
       "      <td>337</td>\n",
       "      <td>65.4</td>\n",
       "      <td>6</td>\n",
       "      <td>1</td>\n",
       "      <td>0</td>\n",
       "      <td>55.0</td>\n",
       "      <td>29.0</td>\n",
       "      <td>37.0</td>\n",
       "      <td>3.0</td>\n",
       "      <td>...</td>\n",
       "      <td>0.0</td>\n",
       "      <td>0.0</td>\n",
       "      <td>0.0</td>\n",
       "      <td>0.0</td>\n",
       "      <td>0.0</td>\n",
       "      <td>0.0</td>\n",
       "      <td>0.0</td>\n",
       "      <td>0.0</td>\n",
       "      <td>0.0</td>\n",
       "      <td>0.0</td>\n",
       "    </tr>\n",
       "    <tr>\n",
       "      <th>1</th>\n",
       "      <td>2020-02-01 00:20:00</td>\n",
       "      <td>302</td>\n",
       "      <td>66.3</td>\n",
       "      <td>6</td>\n",
       "      <td>1</td>\n",
       "      <td>0</td>\n",
       "      <td>55.0</td>\n",
       "      <td>29.0</td>\n",
       "      <td>37.0</td>\n",
       "      <td>3.0</td>\n",
       "      <td>...</td>\n",
       "      <td>0.0</td>\n",
       "      <td>0.0</td>\n",
       "      <td>0.0</td>\n",
       "      <td>0.0</td>\n",
       "      <td>0.0</td>\n",
       "      <td>0.0</td>\n",
       "      <td>0.0</td>\n",
       "      <td>0.0</td>\n",
       "      <td>0.0</td>\n",
       "      <td>0.0</td>\n",
       "    </tr>\n",
       "    <tr>\n",
       "      <th>2</th>\n",
       "      <td>2020-02-01 00:25:00</td>\n",
       "      <td>282</td>\n",
       "      <td>65.3</td>\n",
       "      <td>6</td>\n",
       "      <td>1</td>\n",
       "      <td>0</td>\n",
       "      <td>55.0</td>\n",
       "      <td>29.0</td>\n",
       "      <td>37.0</td>\n",
       "      <td>3.0</td>\n",
       "      <td>...</td>\n",
       "      <td>0.0</td>\n",
       "      <td>0.0</td>\n",
       "      <td>0.0</td>\n",
       "      <td>0.0</td>\n",
       "      <td>0.0</td>\n",
       "      <td>0.0</td>\n",
       "      <td>0.0</td>\n",
       "      <td>0.0</td>\n",
       "      <td>0.0</td>\n",
       "      <td>0.0</td>\n",
       "    </tr>\n",
       "    <tr>\n",
       "      <th>3</th>\n",
       "      <td>2020-02-01 00:30:00</td>\n",
       "      <td>302</td>\n",
       "      <td>66.2</td>\n",
       "      <td>6</td>\n",
       "      <td>1</td>\n",
       "      <td>0</td>\n",
       "      <td>55.0</td>\n",
       "      <td>29.0</td>\n",
       "      <td>37.0</td>\n",
       "      <td>3.0</td>\n",
       "      <td>...</td>\n",
       "      <td>0.0</td>\n",
       "      <td>0.0</td>\n",
       "      <td>0.0</td>\n",
       "      <td>0.0</td>\n",
       "      <td>0.0</td>\n",
       "      <td>0.0</td>\n",
       "      <td>0.0</td>\n",
       "      <td>0.0</td>\n",
       "      <td>0.0</td>\n",
       "      <td>0.0</td>\n",
       "    </tr>\n",
       "    <tr>\n",
       "      <th>4</th>\n",
       "      <td>2020-02-01 00:35:00</td>\n",
       "      <td>277</td>\n",
       "      <td>66.2</td>\n",
       "      <td>6</td>\n",
       "      <td>1</td>\n",
       "      <td>0</td>\n",
       "      <td>55.0</td>\n",
       "      <td>29.0</td>\n",
       "      <td>37.0</td>\n",
       "      <td>3.0</td>\n",
       "      <td>...</td>\n",
       "      <td>0.0</td>\n",
       "      <td>0.0</td>\n",
       "      <td>0.0</td>\n",
       "      <td>0.0</td>\n",
       "      <td>0.0</td>\n",
       "      <td>0.0</td>\n",
       "      <td>0.0</td>\n",
       "      <td>0.0</td>\n",
       "      <td>0.0</td>\n",
       "      <td>0.0</td>\n",
       "    </tr>\n",
       "  </tbody>\n",
       "</table>\n",
       "<p>5 rows × 50 columns</p>\n",
       "</div>"
      ],
      "text/plain": [
       "             5 Minutes  Flow  (mph)  week_day  holidays  Hour  Temperature  \\\n",
       "0  2020-02-01 00:15:00   337   65.4         6         1     0         55.0   \n",
       "1  2020-02-01 00:20:00   302   66.3         6         1     0         55.0   \n",
       "2  2020-02-01 00:25:00   282   65.3         6         1     0         55.0   \n",
       "3  2020-02-01 00:30:00   302   66.2         6         1     0         55.0   \n",
       "4  2020-02-01 00:35:00   277   66.2         6         1     0         55.0   \n",
       "\n",
       "   Dew Point  Humidity  Wind Speed  ...  Condition_Fog  Condition_Haze  \\\n",
       "0       29.0      37.0         3.0  ...            0.0             0.0   \n",
       "1       29.0      37.0         3.0  ...            0.0             0.0   \n",
       "2       29.0      37.0         3.0  ...            0.0             0.0   \n",
       "3       29.0      37.0         3.0  ...            0.0             0.0   \n",
       "4       29.0      37.0         3.0  ...            0.0             0.0   \n",
       "\n",
       "   Condition_Heavy Rain  Condition_Light Rain  Condition_Mostly Cloudy  \\\n",
       "0                   0.0                   0.0                      0.0   \n",
       "1                   0.0                   0.0                      0.0   \n",
       "2                   0.0                   0.0                      0.0   \n",
       "3                   0.0                   0.0                      0.0   \n",
       "4                   0.0                   0.0                      0.0   \n",
       "\n",
       "   Condition_Mostly Cloudy / Windy  Condition_Partly Cloudy  \\\n",
       "0                              0.0                      0.0   \n",
       "1                              0.0                      0.0   \n",
       "2                              0.0                      0.0   \n",
       "3                              0.0                      0.0   \n",
       "4                              0.0                      0.0   \n",
       "\n",
       "   Condition_Partly Cloudy / Windy  Condition_Rain  \\\n",
       "0                              0.0             0.0   \n",
       "1                              0.0             0.0   \n",
       "2                              0.0             0.0   \n",
       "3                              0.0             0.0   \n",
       "4                              0.0             0.0   \n",
       "\n",
       "   Condition_Thunder in the Vicinity  \n",
       "0                                0.0  \n",
       "1                                0.0  \n",
       "2                                0.0  \n",
       "3                                0.0  \n",
       "4                                0.0  \n",
       "\n",
       "[5 rows x 50 columns]"
      ]
     },
     "execution_count": 3,
     "metadata": {},
     "output_type": "execute_result"
    }
   ],
   "source": [
    "# Load data\n",
    "df = pd.read_csv(\"traffic_weather_full2020_cleaned.csv\")\n",
    "df.head()"
   ]
  },
  {
   "cell_type": "code",
   "execution_count": 4,
   "id": "n6naR5kWd26M",
   "metadata": {
    "colab": {
     "base_uri": "https://localhost:8080/",
     "height": 1000
    },
    "executionInfo": {
     "elapsed": 285,
     "status": "ok",
     "timestamp": 1732305716977,
     "user": {
      "displayName": "Xingrong Ma",
      "userId": "15491193300019784207"
     },
     "user_tz": 480
    },
    "id": "n6naR5kWd26M",
    "outputId": "33879de6-371f-4aa1-bf11-d3111260ef3c"
   },
   "outputs": [
    {
     "data": {
      "text/plain": [
       "5 Minutes                            0\n",
       "Flow                                 0\n",
       "(mph)                                0\n",
       "week_day                             0\n",
       "holidays                             0\n",
       "Hour                                 0\n",
       "Temperature                          0\n",
       "Dew Point                            0\n",
       "Humidity                             0\n",
       "Wind Speed                           0\n",
       "Wind Gust                            0\n",
       "Pressure                             0\n",
       "Precip.                              0\n",
       "Day_of_Month                         0\n",
       "Flow_Lag1                            0\n",
       "Flow_Lag2                            0\n",
       "Flow_Lag3                            0\n",
       "Wind_CALM                            0\n",
       "Wind_E                               0\n",
       "Wind_ENE                             0\n",
       "Wind_ESE                             0\n",
       "Wind_N                               0\n",
       "Wind_NE                              0\n",
       "Wind_NNE                             0\n",
       "Wind_NNW                             0\n",
       "Wind_NW                              0\n",
       "Wind_S                               0\n",
       "Wind_SE                              0\n",
       "Wind_SSE                             0\n",
       "Wind_SSW                             0\n",
       "Wind_SW                              0\n",
       "Wind_VAR                             0\n",
       "Wind_W                               0\n",
       "Wind_WNW                             0\n",
       "Wind_WSW                             0\n",
       "Condition_Blowing Dust               0\n",
       "Condition_Cloudy                     0\n",
       "Condition_Cloudy / Windy             0\n",
       "Condition_Fair                       0\n",
       "Condition_Fair / Windy               0\n",
       "Condition_Fog                        0\n",
       "Condition_Haze                       0\n",
       "Condition_Heavy Rain                 0\n",
       "Condition_Light Rain                 0\n",
       "Condition_Mostly Cloudy              0\n",
       "Condition_Mostly Cloudy / Windy      0\n",
       "Condition_Partly Cloudy              0\n",
       "Condition_Partly Cloudy / Windy      0\n",
       "Condition_Rain                       0\n",
       "Condition_Thunder in the Vicinity    0\n",
       "dtype: int64"
      ]
     },
     "execution_count": 4,
     "metadata": {},
     "output_type": "execute_result"
    }
   ],
   "source": [
    "df.isnull().sum()"
   ]
  },
  {
   "cell_type": "code",
   "execution_count": 5,
   "id": "21a604a6",
   "metadata": {
    "executionInfo": {
     "elapsed": 1444,
     "status": "ok",
     "timestamp": 1732305511113,
     "user": {
      "displayName": "Xingrong Ma",
      "userId": "15491193300019784207"
     },
     "user_tz": 480
    },
    "id": "21a604a6"
   },
   "outputs": [],
   "source": [
    "from sklearn.ensemble import RandomForestRegressor\n",
    "from sklearn.linear_model import LinearRegression\n",
    "from sklearn.preprocessing import StandardScaler\n",
    "from sklearn.metrics import (\n",
    "    mean_absolute_error, mean_squared_error, r2_score,\n",
    "    explained_variance_score, max_error\n",
    ")"
   ]
  },
  {
   "cell_type": "markdown",
   "id": "019373aa",
   "metadata": {
    "id": "019373aa"
   },
   "source": [
    "#### Feature Selection"
   ]
  },
  {
   "cell_type": "code",
   "execution_count": 6,
   "id": "bd06cf94",
   "metadata": {
    "colab": {
     "base_uri": "https://localhost:8080/"
    },
    "executionInfo": {
     "elapsed": 3,
     "status": "ok",
     "timestamp": 1732305512985,
     "user": {
      "displayName": "Xingrong Ma",
      "userId": "15491193300019784207"
     },
     "user_tz": 480
    },
    "id": "bd06cf94",
    "outputId": "793a57d4-5fe9-4de5-98c7-e85e5d301b7b",
    "scrolled": true
   },
   "outputs": [
    {
     "data": {
      "text/plain": [
       "Index(['5 Minutes', 'Flow', '(mph)', 'week_day', 'holidays', 'Hour',\n",
       "       'Temperature', 'Dew Point', 'Humidity', 'Wind Speed', 'Wind Gust',\n",
       "       'Pressure', 'Precip.', 'Day_of_Month', 'Flow_Lag1', 'Flow_Lag2',\n",
       "       'Flow_Lag3', 'Wind_CALM', 'Wind_E', 'Wind_ENE', 'Wind_ESE', 'Wind_N',\n",
       "       'Wind_NE', 'Wind_NNE', 'Wind_NNW', 'Wind_NW', 'Wind_S', 'Wind_SE',\n",
       "       'Wind_SSE', 'Wind_SSW', 'Wind_SW', 'Wind_VAR', 'Wind_W', 'Wind_WNW',\n",
       "       'Wind_WSW', 'Condition_Blowing Dust', 'Condition_Cloudy',\n",
       "       'Condition_Cloudy / Windy', 'Condition_Fair', 'Condition_Fair / Windy',\n",
       "       'Condition_Fog', 'Condition_Haze', 'Condition_Heavy Rain',\n",
       "       'Condition_Light Rain', 'Condition_Mostly Cloudy',\n",
       "       'Condition_Mostly Cloudy / Windy', 'Condition_Partly Cloudy',\n",
       "       'Condition_Partly Cloudy / Windy', 'Condition_Rain',\n",
       "       'Condition_Thunder in the Vicinity'],\n",
       "      dtype='object')"
      ]
     },
     "execution_count": 6,
     "metadata": {},
     "output_type": "execute_result"
    }
   ],
   "source": [
    "columns = df.columns\n",
    "columns"
   ]
  },
  {
   "cell_type": "code",
   "execution_count": 7,
   "id": "f4d8081a",
   "metadata": {
    "executionInfo": {
     "elapsed": 821,
     "status": "ok",
     "timestamp": 1732305516202,
     "user": {
      "displayName": "Xingrong Ma",
      "userId": "15491193300019784207"
     },
     "user_tz": 480
    },
    "id": "f4d8081a"
   },
   "outputs": [],
   "source": [
    "features = ['(mph)', 'week_day', 'holidays', 'Hour',\n",
    "       'Temperature', 'Humidity', 'Wind Speed', 'Wind Gust',\n",
    "       'Precip.', 'Flow_Lag1', 'Flow_Lag2','Flow_Lag3']"
   ]
  },
  {
   "cell_type": "code",
   "execution_count": 8,
   "id": "a9bbbb05",
   "metadata": {
    "executionInfo": {
     "elapsed": 3,
     "status": "ok",
     "timestamp": 1732305516203,
     "user": {
      "displayName": "Xingrong Ma",
      "userId": "15491193300019784207"
     },
     "user_tz": 480
    },
    "id": "a9bbbb05"
   },
   "outputs": [],
   "source": [
    "# Select all fatures\n",
    "X_full = df.drop(['5 Minutes', 'Flow'], axis=1)\n",
    "\n",
    "# Remove low correlated features\n",
    "X_partial = df[features]\n",
    "y = df['Flow']"
   ]
  },
  {
   "cell_type": "markdown",
   "id": "99dfacab",
   "metadata": {
    "id": "99dfacab"
   },
   "source": [
    "#### Data Spliting"
   ]
  },
  {
   "cell_type": "code",
   "execution_count": 9,
   "id": "85cbceb0",
   "metadata": {
    "executionInfo": {
     "elapsed": 1,
     "status": "ok",
     "timestamp": 1732305518089,
     "user": {
      "displayName": "Xingrong Ma",
      "userId": "15491193300019784207"
     },
     "user_tz": 480
    },
    "id": "85cbceb0"
   },
   "outputs": [],
   "source": [
    "split_point = int(0.8 * len(df))  # Calculate the 80% split index\n",
    "X_train_full, X_test_full = X_full[:split_point], X_full[split_point:]\n",
    "X_train_partial, X_test_partial = X_partial[:split_point], X_partial[split_point:]\n",
    "y_train, y_test = y[:split_point], y[split_point:]"
   ]
  },
  {
   "cell_type": "code",
   "execution_count": 10,
   "id": "3ae6e8dc",
   "metadata": {
    "executionInfo": {
     "elapsed": 276,
     "status": "ok",
     "timestamp": 1732305518909,
     "user": {
      "displayName": "Xingrong Ma",
      "userId": "15491193300019784207"
     },
     "user_tz": 480
    },
    "id": "3ae6e8dc"
   },
   "outputs": [],
   "source": [
    "scaler = StandardScaler()\n",
    "\n",
    "# Fit the scaler on the training set and transform both training and test sets\n",
    "X_train_full_scaled = scaler.fit_transform(X_train_full)\n",
    "X_test_full_scaled = scaler.transform(X_test_full)\n",
    "\n",
    "X_train_partial_scaled = scaler.fit_transform(X_train_partial)\n",
    "X_test_partial_scaled = scaler.transform(X_test_partial)"
   ]
  },
  {
   "cell_type": "markdown",
   "id": "845e18cd",
   "metadata": {
    "id": "845e18cd"
   },
   "source": [
    "#### Random Forest"
   ]
  },
  {
   "cell_type": "code",
   "execution_count": 11,
   "id": "f69fd587",
   "metadata": {
    "colab": {
     "base_uri": "https://localhost:8080/"
    },
    "executionInfo": {
     "elapsed": 9131,
     "status": "ok",
     "timestamp": 1732305573824,
     "user": {
      "displayName": "Xingrong Ma",
      "userId": "15491193300019784207"
     },
     "user_tz": 480
    },
    "id": "f69fd587",
    "outputId": "29007735-dfa0-4f4e-9e28-2989393fcfa9"
   },
   "outputs": [],
   "source": [
    "#Scaling is not required because Random Forest uses decision trees, which split data based on feature\n",
    "#values and are not sensitive to their scale. Use the unscaled data for Random Forest training and testing.\n",
    "\n",
    "## Using Partial Features that was used for SVM and KNN\n",
    "# Initialize model using unscaled data\n",
    "rf_model = RandomForestRegressor(n_estimators=100, random_state=42)\n",
    "\n",
    "# Train Random Forest model\n",
    "rf_model.fit(X_train_partial, y_train)\n",
    "\n",
    "# Make predictions\n",
    "rf_predictions = rf_model.predict(X_test_partial)\n",
    "\n",
    "# Evaluate Random Forest model\n",
    "mae_rf = mean_absolute_error(y_test, rf_predictions)\n",
    "mse_rf = mean_squared_error(y_test, rf_predictions)\n",
    "rmse_rf = mean_squared_error(y_test, rf_predictions, squared=False)\n",
    "r2_rf = r2_score(y_test, rf_predictions)\n",
    "mape_rf = (abs((y_test - rf_predictions)/y_test).mean())*100\n",
    "evs_rf = explained_variance_score(y_test, rf_predictions)\n",
    "max_err_rf = max_error(y_test, rf_predictions)"
   ]
  },
  {
   "cell_type": "code",
   "execution_count": 17,
   "id": "e49b8b77",
   "metadata": {},
   "outputs": [
    {
     "data": {
      "text/html": [
       "<style>#sk-container-id-1 {color: black;background-color: white;}#sk-container-id-1 pre{padding: 0;}#sk-container-id-1 div.sk-toggleable {background-color: white;}#sk-container-id-1 label.sk-toggleable__label {cursor: pointer;display: block;width: 100%;margin-bottom: 0;padding: 0.3em;box-sizing: border-box;text-align: center;}#sk-container-id-1 label.sk-toggleable__label-arrow:before {content: \"▸\";float: left;margin-right: 0.25em;color: #696969;}#sk-container-id-1 label.sk-toggleable__label-arrow:hover:before {color: black;}#sk-container-id-1 div.sk-estimator:hover label.sk-toggleable__label-arrow:before {color: black;}#sk-container-id-1 div.sk-toggleable__content {max-height: 0;max-width: 0;overflow: hidden;text-align: left;background-color: #f0f8ff;}#sk-container-id-1 div.sk-toggleable__content pre {margin: 0.2em;color: black;border-radius: 0.25em;background-color: #f0f8ff;}#sk-container-id-1 input.sk-toggleable__control:checked~div.sk-toggleable__content {max-height: 200px;max-width: 100%;overflow: auto;}#sk-container-id-1 input.sk-toggleable__control:checked~label.sk-toggleable__label-arrow:before {content: \"▾\";}#sk-container-id-1 div.sk-estimator input.sk-toggleable__control:checked~label.sk-toggleable__label {background-color: #d4ebff;}#sk-container-id-1 div.sk-label input.sk-toggleable__control:checked~label.sk-toggleable__label {background-color: #d4ebff;}#sk-container-id-1 input.sk-hidden--visually {border: 0;clip: rect(1px 1px 1px 1px);clip: rect(1px, 1px, 1px, 1px);height: 1px;margin: -1px;overflow: hidden;padding: 0;position: absolute;width: 1px;}#sk-container-id-1 div.sk-estimator {font-family: monospace;background-color: #f0f8ff;border: 1px dotted black;border-radius: 0.25em;box-sizing: border-box;margin-bottom: 0.5em;}#sk-container-id-1 div.sk-estimator:hover {background-color: #d4ebff;}#sk-container-id-1 div.sk-parallel-item::after {content: \"\";width: 100%;border-bottom: 1px solid gray;flex-grow: 1;}#sk-container-id-1 div.sk-label:hover label.sk-toggleable__label {background-color: #d4ebff;}#sk-container-id-1 div.sk-serial::before {content: \"\";position: absolute;border-left: 1px solid gray;box-sizing: border-box;top: 0;bottom: 0;left: 50%;z-index: 0;}#sk-container-id-1 div.sk-serial {display: flex;flex-direction: column;align-items: center;background-color: white;padding-right: 0.2em;padding-left: 0.2em;position: relative;}#sk-container-id-1 div.sk-item {position: relative;z-index: 1;}#sk-container-id-1 div.sk-parallel {display: flex;align-items: stretch;justify-content: center;background-color: white;position: relative;}#sk-container-id-1 div.sk-item::before, #sk-container-id-1 div.sk-parallel-item::before {content: \"\";position: absolute;border-left: 1px solid gray;box-sizing: border-box;top: 0;bottom: 0;left: 50%;z-index: -1;}#sk-container-id-1 div.sk-parallel-item {display: flex;flex-direction: column;z-index: 1;position: relative;background-color: white;}#sk-container-id-1 div.sk-parallel-item:first-child::after {align-self: flex-end;width: 50%;}#sk-container-id-1 div.sk-parallel-item:last-child::after {align-self: flex-start;width: 50%;}#sk-container-id-1 div.sk-parallel-item:only-child::after {width: 0;}#sk-container-id-1 div.sk-dashed-wrapped {border: 1px dashed gray;margin: 0 0.4em 0.5em 0.4em;box-sizing: border-box;padding-bottom: 0.4em;background-color: white;}#sk-container-id-1 div.sk-label label {font-family: monospace;font-weight: bold;display: inline-block;line-height: 1.2em;}#sk-container-id-1 div.sk-label-container {text-align: center;}#sk-container-id-1 div.sk-container {/* jupyter's `normalize.less` sets `[hidden] { display: none; }` but bootstrap.min.css set `[hidden] { display: none !important; }` so we also need the `!important` here to be able to override the default hidden behavior on the sphinx rendered scikit-learn.org. See: https://github.com/scikit-learn/scikit-learn/issues/21755 */display: inline-block !important;position: relative;}#sk-container-id-1 div.sk-text-repr-fallback {display: none;}</style><div id=\"sk-container-id-1\" class=\"sk-top-container\"><div class=\"sk-text-repr-fallback\"><pre>RandomForestRegressor(random_state=42)</pre><b>In a Jupyter environment, please rerun this cell to show the HTML representation or trust the notebook. <br />On GitHub, the HTML representation is unable to render, please try loading this page with nbviewer.org.</b></div><div class=\"sk-container\" hidden><div class=\"sk-item\"><div class=\"sk-estimator sk-toggleable\"><input class=\"sk-toggleable__control sk-hidden--visually\" id=\"sk-estimator-id-1\" type=\"checkbox\" checked><label for=\"sk-estimator-id-1\" class=\"sk-toggleable__label sk-toggleable__label-arrow\">RandomForestRegressor</label><div class=\"sk-toggleable__content\"><pre>RandomForestRegressor(random_state=42)</pre></div></div></div></div></div>"
      ],
      "text/plain": [
       "RandomForestRegressor(random_state=42)"
      ]
     },
     "execution_count": 17,
     "metadata": {},
     "output_type": "execute_result"
    }
   ],
   "source": [
    "import pickle\n",
    "\n",
    "Pkl_Filename = \"RF_Model.pkl\"\n",
    "\n",
    "with open(Pkl_Filename, 'wb') as file:\n",
    "    pickle.dump(rf_model, file)\n",
    "\n",
    "with open(Pkl_Filename, 'rb') as file:\n",
    "    pickled_RF_Model = pickle.load(file)\n",
    "\n",
    "pickled_RF_Model"
   ]
  },
  {
   "cell_type": "code",
   "execution_count": 18,
   "id": "a92c1617",
   "metadata": {},
   "outputs": [
    {
     "name": "stdout",
     "output_type": "stream",
     "text": [
      "Test score: 97.12 %\n"
     ]
    },
    {
     "data": {
      "text/plain": [
       "array([405.58, 405.51, 398.85, ..., 194.72, 191.33, 179.42])"
      ]
     },
     "execution_count": 18,
     "metadata": {},
     "output_type": "execute_result"
    }
   ],
   "source": [
    "score = pickled_RF_Model.score(X_test_partial, y_test)\n",
    "# Print the Score\n",
    "print(\"Test score: {0:.2f} %\".format(100 * score))\n",
    "\n",
    "# Predict the Labels using the reloaded Model\n",
    "Ypredict = pickled_RF_Model.predict(X_test_partial)\n",
    "\n",
    "Ypredict"
   ]
  },
  {
   "cell_type": "markdown",
   "id": "ae60bdb6",
   "metadata": {
    "id": "ae60bdb6"
   },
   "source": [
    "#### Linear Regression"
   ]
  },
  {
   "cell_type": "code",
   "execution_count": 12,
   "id": "b09f0000",
   "metadata": {
    "colab": {
     "base_uri": "https://localhost:8080/",
     "height": 472
    },
    "executionInfo": {
     "elapsed": 345,
     "status": "error",
     "timestamp": 1732305597535,
     "user": {
      "displayName": "Xingrong Ma",
      "userId": "15491193300019784207"
     },
     "user_tz": 480
    },
    "id": "b09f0000",
    "outputId": "3e51b8ee-7f8f-40aa-9376-c7f0f7564859"
   },
   "outputs": [],
   "source": [
    "#Scaling is necessary because Linear Regression is sensitive to the magnitude of feature values.\n",
    "#Features with larger numerical ranges might dominate the optimization process if not scaled.\n",
    "#Use the scaled data for Linear Regression training and testing.\n",
    "\n",
    "## Using Partial Features\n",
    "# Initialize model\n",
    "lr_model = LinearRegression()\n",
    "\n",
    "# Train Linear Regression model\n",
    "lr_model.fit(X_train_partial_scaled, y_train)\n",
    "\n",
    "# Make predictions\n",
    "lr_predictions = lr_model.predict(X_test_partial_scaled)\n",
    "\n",
    "# Evaluate Linear Regression\n",
    "mae_lr = mean_absolute_error(y_test, lr_predictions)\n",
    "mse_lr = mean_squared_error(y_test, lr_predictions)\n",
    "rmse_lr = mean_squared_error(y_test, lr_predictions, squared=False)\n",
    "r2_lr = r2_score(y_test, lr_predictions)\n",
    "mape_lr = (abs((y_test - lr_predictions)/y_test).mean())*100\n",
    "evs_lr = explained_variance_score(y_test, lr_predictions)\n",
    "max_err_lr = max_error(y_test, lr_predictions)"
   ]
  },
  {
   "cell_type": "code",
   "execution_count": 19,
   "id": "f7e92961",
   "metadata": {},
   "outputs": [
    {
     "data": {
      "text/html": [
       "<style>#sk-container-id-2 {color: black;background-color: white;}#sk-container-id-2 pre{padding: 0;}#sk-container-id-2 div.sk-toggleable {background-color: white;}#sk-container-id-2 label.sk-toggleable__label {cursor: pointer;display: block;width: 100%;margin-bottom: 0;padding: 0.3em;box-sizing: border-box;text-align: center;}#sk-container-id-2 label.sk-toggleable__label-arrow:before {content: \"▸\";float: left;margin-right: 0.25em;color: #696969;}#sk-container-id-2 label.sk-toggleable__label-arrow:hover:before {color: black;}#sk-container-id-2 div.sk-estimator:hover label.sk-toggleable__label-arrow:before {color: black;}#sk-container-id-2 div.sk-toggleable__content {max-height: 0;max-width: 0;overflow: hidden;text-align: left;background-color: #f0f8ff;}#sk-container-id-2 div.sk-toggleable__content pre {margin: 0.2em;color: black;border-radius: 0.25em;background-color: #f0f8ff;}#sk-container-id-2 input.sk-toggleable__control:checked~div.sk-toggleable__content {max-height: 200px;max-width: 100%;overflow: auto;}#sk-container-id-2 input.sk-toggleable__control:checked~label.sk-toggleable__label-arrow:before {content: \"▾\";}#sk-container-id-2 div.sk-estimator input.sk-toggleable__control:checked~label.sk-toggleable__label {background-color: #d4ebff;}#sk-container-id-2 div.sk-label input.sk-toggleable__control:checked~label.sk-toggleable__label {background-color: #d4ebff;}#sk-container-id-2 input.sk-hidden--visually {border: 0;clip: rect(1px 1px 1px 1px);clip: rect(1px, 1px, 1px, 1px);height: 1px;margin: -1px;overflow: hidden;padding: 0;position: absolute;width: 1px;}#sk-container-id-2 div.sk-estimator {font-family: monospace;background-color: #f0f8ff;border: 1px dotted black;border-radius: 0.25em;box-sizing: border-box;margin-bottom: 0.5em;}#sk-container-id-2 div.sk-estimator:hover {background-color: #d4ebff;}#sk-container-id-2 div.sk-parallel-item::after {content: \"\";width: 100%;border-bottom: 1px solid gray;flex-grow: 1;}#sk-container-id-2 div.sk-label:hover label.sk-toggleable__label {background-color: #d4ebff;}#sk-container-id-2 div.sk-serial::before {content: \"\";position: absolute;border-left: 1px solid gray;box-sizing: border-box;top: 0;bottom: 0;left: 50%;z-index: 0;}#sk-container-id-2 div.sk-serial {display: flex;flex-direction: column;align-items: center;background-color: white;padding-right: 0.2em;padding-left: 0.2em;position: relative;}#sk-container-id-2 div.sk-item {position: relative;z-index: 1;}#sk-container-id-2 div.sk-parallel {display: flex;align-items: stretch;justify-content: center;background-color: white;position: relative;}#sk-container-id-2 div.sk-item::before, #sk-container-id-2 div.sk-parallel-item::before {content: \"\";position: absolute;border-left: 1px solid gray;box-sizing: border-box;top: 0;bottom: 0;left: 50%;z-index: -1;}#sk-container-id-2 div.sk-parallel-item {display: flex;flex-direction: column;z-index: 1;position: relative;background-color: white;}#sk-container-id-2 div.sk-parallel-item:first-child::after {align-self: flex-end;width: 50%;}#sk-container-id-2 div.sk-parallel-item:last-child::after {align-self: flex-start;width: 50%;}#sk-container-id-2 div.sk-parallel-item:only-child::after {width: 0;}#sk-container-id-2 div.sk-dashed-wrapped {border: 1px dashed gray;margin: 0 0.4em 0.5em 0.4em;box-sizing: border-box;padding-bottom: 0.4em;background-color: white;}#sk-container-id-2 div.sk-label label {font-family: monospace;font-weight: bold;display: inline-block;line-height: 1.2em;}#sk-container-id-2 div.sk-label-container {text-align: center;}#sk-container-id-2 div.sk-container {/* jupyter's `normalize.less` sets `[hidden] { display: none; }` but bootstrap.min.css set `[hidden] { display: none !important; }` so we also need the `!important` here to be able to override the default hidden behavior on the sphinx rendered scikit-learn.org. See: https://github.com/scikit-learn/scikit-learn/issues/21755 */display: inline-block !important;position: relative;}#sk-container-id-2 div.sk-text-repr-fallback {display: none;}</style><div id=\"sk-container-id-2\" class=\"sk-top-container\"><div class=\"sk-text-repr-fallback\"><pre>LinearRegression()</pre><b>In a Jupyter environment, please rerun this cell to show the HTML representation or trust the notebook. <br />On GitHub, the HTML representation is unable to render, please try loading this page with nbviewer.org.</b></div><div class=\"sk-container\" hidden><div class=\"sk-item\"><div class=\"sk-estimator sk-toggleable\"><input class=\"sk-toggleable__control sk-hidden--visually\" id=\"sk-estimator-id-2\" type=\"checkbox\" checked><label for=\"sk-estimator-id-2\" class=\"sk-toggleable__label sk-toggleable__label-arrow\">LinearRegression</label><div class=\"sk-toggleable__content\"><pre>LinearRegression()</pre></div></div></div></div></div>"
      ],
      "text/plain": [
       "LinearRegression()"
      ]
     },
     "execution_count": 19,
     "metadata": {},
     "output_type": "execute_result"
    }
   ],
   "source": [
    "Pkl_Filename = \"LR_Model.pkl\"\n",
    "\n",
    "with open(Pkl_Filename, 'wb') as file:\n",
    "    pickle.dump(lr_model, file)\n",
    "\n",
    "with open(Pkl_Filename, 'rb') as file:\n",
    "    pickle_LR_Model = pickle.load(file)\n",
    "\n",
    "pickle_LR_Model"
   ]
  },
  {
   "cell_type": "code",
   "execution_count": 20,
   "id": "98ea1cf1",
   "metadata": {},
   "outputs": [
    {
     "name": "stdout",
     "output_type": "stream",
     "text": [
      "Test score: 97.06 %\n"
     ]
    },
    {
     "data": {
      "text/plain": [
       "array([354.50624473, 348.79550217, 324.11175063, ..., 416.52274232,\n",
       "       403.0378828 , 391.67493565])"
      ]
     },
     "execution_count": 20,
     "metadata": {},
     "output_type": "execute_result"
    }
   ],
   "source": [
    "score = pickle_LR_Model.score(X_test_partial_scaled, y_test)\n",
    "# Print the Score\n",
    "print(\"Test score: {0:.2f} %\".format(100 * score))\n",
    "\n",
    "# Predict the Labels using the reloaded Model\n",
    "Ypredict = pickle_LR_Model.predict(X_train_partial_scaled)\n",
    "\n",
    "Ypredict"
   ]
  },
  {
   "cell_type": "code",
   "execution_count": 13,
   "id": "47336528",
   "metadata": {
    "colab": {
     "base_uri": "https://localhost:8080/",
     "height": 216
    },
    "executionInfo": {
     "elapsed": 283,
     "status": "error",
     "timestamp": 1732305593402,
     "user": {
      "displayName": "Xingrong Ma",
      "userId": "15491193300019784207"
     },
     "user_tz": 480
    },
    "id": "47336528",
    "outputId": "4fd67bec-0601-4240-cff0-33253f2fb51d"
   },
   "outputs": [
    {
     "data": {
      "text/html": [
       "<div>\n",
       "<style scoped>\n",
       "    .dataframe tbody tr th:only-of-type {\n",
       "        vertical-align: middle;\n",
       "    }\n",
       "\n",
       "    .dataframe tbody tr th {\n",
       "        vertical-align: top;\n",
       "    }\n",
       "\n",
       "    .dataframe thead th {\n",
       "        text-align: right;\n",
       "    }\n",
       "</style>\n",
       "<table border=\"1\" class=\"dataframe\">\n",
       "  <thead>\n",
       "    <tr style=\"text-align: right;\">\n",
       "      <th></th>\n",
       "      <th>Metric</th>\n",
       "      <th>Random Forest</th>\n",
       "      <th>Linear Regression</th>\n",
       "    </tr>\n",
       "  </thead>\n",
       "  <tbody>\n",
       "    <tr>\n",
       "      <th>0</th>\n",
       "      <td>Mean Absolute Error (MAE)</td>\n",
       "      <td>20.687570</td>\n",
       "      <td>20.979817</td>\n",
       "    </tr>\n",
       "    <tr>\n",
       "      <th>1</th>\n",
       "      <td>Mean Squared Error (MSE)</td>\n",
       "      <td>833.510591</td>\n",
       "      <td>850.055298</td>\n",
       "    </tr>\n",
       "    <tr>\n",
       "      <th>2</th>\n",
       "      <td>Root Mean Squared Error (RMSE)</td>\n",
       "      <td>28.870583</td>\n",
       "      <td>29.155708</td>\n",
       "    </tr>\n",
       "    <tr>\n",
       "      <th>3</th>\n",
       "      <td>R^2 Score (R2)</td>\n",
       "      <td>0.971183</td>\n",
       "      <td>0.970611</td>\n",
       "    </tr>\n",
       "    <tr>\n",
       "      <th>4</th>\n",
       "      <td>Mean Absolute Percentage Error (MAPE)</td>\n",
       "      <td>5.357619</td>\n",
       "      <td>5.588570</td>\n",
       "    </tr>\n",
       "    <tr>\n",
       "      <th>5</th>\n",
       "      <td>Explained Variance Score (EVS)</td>\n",
       "      <td>0.971222</td>\n",
       "      <td>0.970612</td>\n",
       "    </tr>\n",
       "  </tbody>\n",
       "</table>\n",
       "</div>"
      ],
      "text/plain": [
       "                                  Metric  Random Forest  Linear Regression\n",
       "0              Mean Absolute Error (MAE)      20.687570          20.979817\n",
       "1               Mean Squared Error (MSE)     833.510591         850.055298\n",
       "2         Root Mean Squared Error (RMSE)      28.870583          29.155708\n",
       "3                         R^2 Score (R2)       0.971183           0.970611\n",
       "4  Mean Absolute Percentage Error (MAPE)       5.357619           5.588570\n",
       "5         Explained Variance Score (EVS)       0.971222           0.970612"
      ]
     },
     "execution_count": 13,
     "metadata": {},
     "output_type": "execute_result"
    }
   ],
   "source": [
    "# Compile results\n",
    "metrics_rf = {\n",
    "    'Metric': ['Mean Absolute Error (MAE)', 'Mean Squared Error (MSE)', 'Root Mean Squared Error (RMSE)',\n",
    "               'R^2 Score (R2)', 'Mean Absolute Percentage Error (MAPE)', 'Explained Variance Score (EVS)'],\n",
    "    'Random Forest': [mae_rf, mse_rf, rmse_rf, r2_rf, mape_rf, evs_rf]\n",
    "}\n",
    "\n",
    "metrics_lr = {\n",
    "    'Metric': ['Mean Absolute Error (MAE)', 'Mean Squared Error (MSE)', 'Root Mean Squared Error (RMSE)',\n",
    "               'R^2 Score (R2)', 'Mean Absolute Percentage Error (MAPE)', 'Explained Variance Score (EVS)'],\n",
    "    'Linear Regression': [mae_lr, mse_lr, rmse_lr, r2_lr, mape_lr, evs_lr]\n",
    "}\n",
    "\n",
    "df_rf = pd.DataFrame(metrics_rf)\n",
    "df_lr = pd.DataFrame(metrics_lr)\n",
    "\n",
    "df_results = pd.merge(df_rf, df_lr, on='Metric')\n",
    "df_results"
   ]
  },
  {
   "cell_type": "markdown",
   "id": "3d915bb8",
   "metadata": {
    "id": "3d915bb8"
   },
   "source": [
    "Note:<br/>\n",
    "Mean Squared Error (MSE): Lower values indicate better performance, as it shows the average squared difference between predicted and actual values.<br/>\n",
    "R² Score: Values closer to 1 indicate better performance, as it measures the proportion of variance in the target variable explained by the model."
   ]
  },
  {
   "cell_type": "markdown",
   "id": "d28bc9cf",
   "metadata": {
    "id": "d28bc9cf"
   },
   "source": [
    "**Our best model is Random Forest.**"
   ]
  },
  {
   "cell_type": "markdown",
   "id": "fa3de9db",
   "metadata": {
    "id": "fa3de9db"
   },
   "source": [
    "## Interpreting Model's Results"
   ]
  },
  {
   "cell_type": "markdown",
   "id": "ed150e62",
   "metadata": {
    "id": "ed150e62"
   },
   "source": [
    "* Analyze the Predictions: Use the best-performing model to make predictions on test data and interpret the results. Look for patterns, such as how traffic flow varies with weather, time of day, or day of the week.<br/>\n",
    "* Feature Importance Analysis: For models like Random Forest, you can analyze feature importance to identify which variables (e.g., temperature, humidity, rush hour indicator) have the most impact on traffic flow. This helps in understanding what factors drive traffic patterns."
   ]
  },
  {
   "cell_type": "code",
   "execution_count": 14,
   "id": "3edd83d1",
   "metadata": {
    "id": "3edd83d1",
    "outputId": "c02db630-79c7-49b4-f812-a1111b2e951c",
    "scrolled": false
   },
   "outputs": [
    {
     "data": {
      "image/png": "[encoded data removed]",
      "text/plain": [
       "<Figure size 1000x600 with 1 Axes>"
      ]
     },
     "metadata": {},
     "output_type": "display_data"
    }
   ],
   "source": [
    "# Check if the Random Forest model has feature importance attribute\n",
    "if hasattr(rf_model, 'feature_importances_'):\n",
    "    # Extract feature importance and feature names\n",
    "    feature_importance = rf_model.feature_importances_\n",
    "    feature_names = X_train_partial.columns\n",
    "\n",
    "    # Create a DataFrame for better visualization\n",
    "    importance_df = pd.DataFrame({\n",
    "        'Feature': feature_names,\n",
    "        'Importance': feature_importance\n",
    "    }).sort_values(by='Importance', ascending=False)\n",
    "\n",
    "    # Plot feature importance\n",
    "    plt.figure(figsize=(10, 6))\n",
    "    plt.barh(importance_df['Feature'], importance_df['Importance'], color='skyblue')\n",
    "    plt.title('Feature Importance from Random Forest Model')\n",
    "    plt.xlabel('Importance Score')\n",
    "    plt.ylabel('Feature')\n",
    "    plt.gca().invert_yaxis()  # Invert y-axis for better readability\n",
    "    plt.tight_layout()\n",
    "    plt.show()\n",
    "else:\n",
    "    print(\"Random Forest model does not support feature importance analysis.\")"
   ]
  },
  {
   "cell_type": "markdown",
   "id": "4ea17437",
   "metadata": {
    "id": "4ea17437"
   },
   "source": [
    "Code Explanation\n",
    "1. Feature Importance (Random Forest)<br/>\n",
    "- The code checks if the Random Forest model supports feature importance analysis.\n",
    "- It extracts the feature importance scores and visualizes them in a horizontal bar chart to highlight which features (e.g., temperature, time, humidity) have the most impact on traffic flow predictions.<br/>\n",
    "<br/>\n",
    "Result: Flow Lag 1 is the most important feature in Random Forest model that has the most impact on traffic flow predictions."
   ]
  },
  {
   "cell_type": "code",
   "execution_count": 15,
   "id": "6c5c580b",
   "metadata": {
    "id": "6c5c580b",
    "outputId": "b3bdc629-f591-4fde-da8f-798f503a5670"
   },
   "outputs": [
    {
     "data": {
      "image/png": "[encoded data removed]",
      "text/plain": [
       "<Figure size 800x600 with 1 Axes>"
      ]
     },
     "metadata": {},
     "output_type": "display_data"
    }
   ],
   "source": [
    "# Predictions vs Actual Values for Random Forest model\n",
    "plt.figure(figsize=(8, 6))\n",
    "plt.scatter(y_test, rf_predictions, alpha=0.5, color='blue')\n",
    "plt.title('Random Forest: Predicted vs Actual Traffic Flow')\n",
    "plt.xlabel('Actual Traffic Flow')\n",
    "plt.ylabel('Predicted Traffic Flow')\n",
    "plt.grid(True)\n",
    "plt.tight_layout()\n",
    "plt.show()"
   ]
  },
  {
   "cell_type": "markdown",
   "id": "e5d273bc",
   "metadata": {
    "id": "e5d273bc"
   },
   "source": [
    "Code Explanation<br/>\n",
    "<br/>\n",
    "2. Predictions vs Actual Values<br/>\n",
    "- The code uses the best-performing model (Random Forest) to make predictions on the test set.\n",
    "- It plots the predicted values against the actual values in a scatter plot to evaluate how closely the predictions match the actual data.<br/>\n",
    "<br/>\n",
    "Result: In this graph, the points are clustered closely around this diagonal, suggesting the Random Forest model performs well overall (making accurate predictions for most traffic flow values)."
   ]
  },
  {
   "cell_type": "code",
   "execution_count": 16,
   "id": "bdccb9a8",
   "metadata": {
    "id": "bdccb9a8",
    "outputId": "7f08afcd-cedc-4c1f-eaa7-7195970145d6"
   },
   "outputs": [
    {
     "data": {
      "image/png": "[encoded data removed]",
      "text/plain": [
       "<Figure size 800x600 with 1 Axes>"
      ]
     },
     "metadata": {},
     "output_type": "display_data"
    }
   ],
   "source": [
    "# Residual Analysis (difference between actual and predicted values) for Random Forest model\n",
    "rf_residuals = y_test - rf_predictions\n",
    "\n",
    "plt.figure(figsize=(8, 6))\n",
    "plt.hist(rf_residuals, bins=20, color='purple', alpha=0.7)\n",
    "plt.title('Random Forest: Residuals Distribution')\n",
    "plt.xlabel('Residuals (Actual - Predicted)')\n",
    "plt.ylabel('Frequency')\n",
    "plt.grid(True)\n",
    "plt.tight_layout()\n",
    "plt.show()"
   ]
  },
  {
   "cell_type": "markdown",
   "id": "c1484a93",
   "metadata": {
    "id": "c1484a93"
   },
   "source": [
    "Code Explanation\n",
    "3. Residual Analysis<br/>\n",
    "- The residuals (differences between actual and predicted values) are calculated and visualized in a histogram.\n",
    "- This helps identify any bias in the model and ensures that residuals are normally distributed (a sign of a good model fit).<br/>\n",
    "<br/>\n",
    "Result: The Random Forest model performs well with most residuals close to zero, indicating accurate predictions.\n",
    "The symmetric distribution suggests no significant bias in the model."
   ]
  },
  {
   "cell_type": "code",
   "execution_count": null,
   "id": "534f2eec",
   "metadata": {
    "id": "534f2eec"
   },
   "outputs": [],
   "source": []
  }
 ],
 "metadata": {
  "colab": {
   "provenance": []
  },
  "kernelspec": {
   "display_name": "Python 3 (ipykernel)",
   "language": "python",
   "name": "python3"
  },
  "language_info": {
   "codemirror_mode": {
    "name": "ipython",
    "version": 3
   },
   "file_extension": ".py",
   "mimetype": "text/x-python",
   "name": "python",
   "nbconvert_exporter": "python",
   "pygments_lexer": "ipython3",
   "version": "3.10.9"
  }
 },
 "nbformat": 4,
 "nbformat_minor": 5
}
